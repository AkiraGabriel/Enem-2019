{
 "cells": [
  {
   "cell_type": "markdown",
   "id": "Zs2RuNBK1jxC",
   "metadata": {
    "id": "Zs2RuNBK1jxC"
   },
   "source": [
    "# ML Olympiad - QUALITY EDUCATION\n",
    "\n",
    "ML Olympiad – Previsão das notas da prova do ENEM ([Link](https://www.kaggle.com/competitions/qualityeducation/data))"
   ]
  },
  {
   "cell_type": "markdown",
   "id": "CNe1goGd1XhN",
   "metadata": {
    "id": "CNe1goGd1XhN"
   },
   "source": [
    "[Dicionário de dados](https://docs.google.com/spreadsheets/d/14C4lbQFEmUnIJN17gr01L8ikXsT27eHZ/edit?usp=sharing&ouid=101143319330377699057&rtpof=true&sd=true) (significado das colunas)"
   ]
  },
  {
   "cell_type": "markdown",
   "id": "22dcdd35",
   "metadata": {},
   "source": [
    "### O que fazer:\n",
    "-Relações de média com: \n",
    "idade\n",
    "sexo\n",
    "raça\n",
    "nacionalidade\n",
    "\n",
    "número de inscritos por municipio"
   ]
  },
  {
   "cell_type": "code",
   "execution_count": 2,
   "id": "AzIjYhiR3eke",
   "metadata": {
    "executionInfo": {
     "elapsed": 783,
     "status": "ok",
     "timestamp": 1659614581522,
     "user": {
      "displayName": "Gabriel Akira",
      "userId": "13059527523178606217"
     },
     "user_tz": 180
    },
    "id": "AzIjYhiR3eke"
   },
   "outputs": [],
   "source": [
    "import numpy as np\n",
    "import pandas as pd\n",
    "#from pandas.api.types import is_numeric_dtype #Acrescentado\n",
    "import seaborn as sns\n",
    "import matplotlib.pyplot as plt\n",
    "%matplotlib inline\n",
    "\n",
    "#from sklearn.model_selection import train_test_split, cross_validate\n",
    "#from sklearn.linear_model import LinearRegression\n",
    "#from sklearn.metrics import mean_squared_error, mean_absolute_error, r2_score"
   ]
  },
  {
   "cell_type": "code",
   "execution_count": 3,
   "id": "-y9QDyyv46Ch",
   "metadata": {
    "colab": {
     "base_uri": "https://localhost:8080/",
     "height": 165
    },
    "executionInfo": {
     "elapsed": 3,
     "status": "error",
     "timestamp": 1659614581522,
     "user": {
      "displayName": "Gabriel Akira",
      "userId": "13059527523178606217"
     },
     "user_tz": 180
    },
    "id": "-y9QDyyv46Ch",
    "outputId": "1ec37b2f-1561-473c-de52-83bd8726740e",
    "scrolled": true
   },
   "outputs": [
    {
     "data": {
      "text/plain": [
       "pandas.core.frame.DataFrame"
      ]
     },
     "execution_count": 3,
     "metadata": {},
     "output_type": "execute_result"
    }
   ],
   "source": [
    "dados = pd.read_csv(r\"C:\\Users\\gabri\\OneDrive\\Área de Trabalho\\Data Science\\qualityeducation\\train.csv\")\n",
    "type(dados)"
   ]
  },
  {
   "cell_type": "code",
   "execution_count": 14,
   "id": "rZm8S3pq-o_O",
   "metadata": {
    "id": "rZm8S3pq-o_O"
   },
   "outputs": [
    {
     "data": {
      "text/html": [
       "<div>\n",
       "<style scoped>\n",
       "    .dataframe tbody tr th:only-of-type {\n",
       "        vertical-align: middle;\n",
       "    }\n",
       "\n",
       "    .dataframe tbody tr th {\n",
       "        vertical-align: top;\n",
       "    }\n",
       "\n",
       "    .dataframe thead th {\n",
       "        text-align: right;\n",
       "    }\n",
       "</style>\n",
       "<table border=\"1\" class=\"dataframe\">\n",
       "  <thead>\n",
       "    <tr style=\"text-align: right;\">\n",
       "      <th></th>\n",
       "      <th>NU_INSCRICAO</th>\n",
       "      <th>CO_MUNICIPIO_RESIDENCIA</th>\n",
       "      <th>NO_MUNICIPIO_RESIDENCIA</th>\n",
       "      <th>CO_UF_RESIDENCIA</th>\n",
       "      <th>SG_UF_RESIDENCIA</th>\n",
       "      <th>NU_IDADE</th>\n",
       "      <th>TP_SEXO</th>\n",
       "      <th>TP_ESTADO_CIVIL</th>\n",
       "      <th>TP_COR_RACA</th>\n",
       "      <th>TP_NACIONALIDADE</th>\n",
       "      <th>...</th>\n",
       "      <th>Q016</th>\n",
       "      <th>Q017</th>\n",
       "      <th>Q018</th>\n",
       "      <th>Q019</th>\n",
       "      <th>Q020</th>\n",
       "      <th>Q021</th>\n",
       "      <th>Q022</th>\n",
       "      <th>Q023</th>\n",
       "      <th>Q024</th>\n",
       "      <th>Q025</th>\n",
       "    </tr>\n",
       "  </thead>\n",
       "  <tbody>\n",
       "    <tr>\n",
       "      <th>0</th>\n",
       "      <td>d7e73c5f-2db8-4089-9bee-d3a0e045f87f</td>\n",
       "      <td>1100023</td>\n",
       "      <td>Ariquemes</td>\n",
       "      <td>11</td>\n",
       "      <td>RO</td>\n",
       "      <td>31.0</td>\n",
       "      <td>F</td>\n",
       "      <td>0</td>\n",
       "      <td>1</td>\n",
       "      <td>1</td>\n",
       "      <td>...</td>\n",
       "      <td>B</td>\n",
       "      <td>A</td>\n",
       "      <td>A</td>\n",
       "      <td>B</td>\n",
       "      <td>A</td>\n",
       "      <td>A</td>\n",
       "      <td>C</td>\n",
       "      <td>A</td>\n",
       "      <td>B</td>\n",
       "      <td>B</td>\n",
       "    </tr>\n",
       "    <tr>\n",
       "      <th>1</th>\n",
       "      <td>668bf6e4-ddf7-4810-b31e-7d325e36de4d</td>\n",
       "      <td>3106200</td>\n",
       "      <td>Belo Horizonte</td>\n",
       "      <td>31</td>\n",
       "      <td>MG</td>\n",
       "      <td>23.0</td>\n",
       "      <td>F</td>\n",
       "      <td>1</td>\n",
       "      <td>3</td>\n",
       "      <td>1</td>\n",
       "      <td>...</td>\n",
       "      <td>A</td>\n",
       "      <td>A</td>\n",
       "      <td>A</td>\n",
       "      <td>B</td>\n",
       "      <td>A</td>\n",
       "      <td>A</td>\n",
       "      <td>C</td>\n",
       "      <td>A</td>\n",
       "      <td>B</td>\n",
       "      <td>B</td>\n",
       "    </tr>\n",
       "    <tr>\n",
       "      <th>2</th>\n",
       "      <td>951e80d6-ac9b-4ff2-8130-fcbc8ac78b16</td>\n",
       "      <td>3139409</td>\n",
       "      <td>Manhuaçu</td>\n",
       "      <td>31</td>\n",
       "      <td>MG</td>\n",
       "      <td>17.0</td>\n",
       "      <td>M</td>\n",
       "      <td>0</td>\n",
       "      <td>3</td>\n",
       "      <td>1</td>\n",
       "      <td>...</td>\n",
       "      <td>B</td>\n",
       "      <td>A</td>\n",
       "      <td>B</td>\n",
       "      <td>C</td>\n",
       "      <td>B</td>\n",
       "      <td>B</td>\n",
       "      <td>D</td>\n",
       "      <td>A</td>\n",
       "      <td>B</td>\n",
       "      <td>B</td>\n",
       "    </tr>\n",
       "    <tr>\n",
       "      <th>3</th>\n",
       "      <td>baf409f9-ddc6-4e82-9a4b-b64b579cd105</td>\n",
       "      <td>2506301</td>\n",
       "      <td>Guarabira</td>\n",
       "      <td>25</td>\n",
       "      <td>PB</td>\n",
       "      <td>16.0</td>\n",
       "      <td>M</td>\n",
       "      <td>1</td>\n",
       "      <td>1</td>\n",
       "      <td>1</td>\n",
       "      <td>...</td>\n",
       "      <td>B</td>\n",
       "      <td>A</td>\n",
       "      <td>A</td>\n",
       "      <td>B</td>\n",
       "      <td>A</td>\n",
       "      <td>A</td>\n",
       "      <td>E</td>\n",
       "      <td>A</td>\n",
       "      <td>A</td>\n",
       "      <td>B</td>\n",
       "    </tr>\n",
       "    <tr>\n",
       "      <th>4</th>\n",
       "      <td>9fd415ac-3421-44ce-810e-599545c3c025</td>\n",
       "      <td>2304400</td>\n",
       "      <td>Fortaleza</td>\n",
       "      <td>23</td>\n",
       "      <td>CE</td>\n",
       "      <td>19.0</td>\n",
       "      <td>M</td>\n",
       "      <td>1</td>\n",
       "      <td>1</td>\n",
       "      <td>1</td>\n",
       "      <td>...</td>\n",
       "      <td>B</td>\n",
       "      <td>A</td>\n",
       "      <td>A</td>\n",
       "      <td>E</td>\n",
       "      <td>B</td>\n",
       "      <td>B</td>\n",
       "      <td>C</td>\n",
       "      <td>B</td>\n",
       "      <td>B</td>\n",
       "      <td>B</td>\n",
       "    </tr>\n",
       "  </tbody>\n",
       "</table>\n",
       "<p>5 rows × 118 columns</p>\n",
       "</div>"
      ],
      "text/plain": [
       "                           NU_INSCRICAO  CO_MUNICIPIO_RESIDENCIA  \\\n",
       "0  d7e73c5f-2db8-4089-9bee-d3a0e045f87f                  1100023   \n",
       "1  668bf6e4-ddf7-4810-b31e-7d325e36de4d                  3106200   \n",
       "2  951e80d6-ac9b-4ff2-8130-fcbc8ac78b16                  3139409   \n",
       "3  baf409f9-ddc6-4e82-9a4b-b64b579cd105                  2506301   \n",
       "4  9fd415ac-3421-44ce-810e-599545c3c025                  2304400   \n",
       "\n",
       "  NO_MUNICIPIO_RESIDENCIA  CO_UF_RESIDENCIA SG_UF_RESIDENCIA  NU_IDADE  \\\n",
       "0               Ariquemes                11               RO      31.0   \n",
       "1          Belo Horizonte                31               MG      23.0   \n",
       "2                Manhuaçu                31               MG      17.0   \n",
       "3               Guarabira                25               PB      16.0   \n",
       "4               Fortaleza                23               CE      19.0   \n",
       "\n",
       "  TP_SEXO  TP_ESTADO_CIVIL  TP_COR_RACA  TP_NACIONALIDADE  ...  Q016 Q017  \\\n",
       "0       F                0            1                 1  ...     B    A   \n",
       "1       F                1            3                 1  ...     A    A   \n",
       "2       M                0            3                 1  ...     B    A   \n",
       "3       M                1            1                 1  ...     B    A   \n",
       "4       M                1            1                 1  ...     B    A   \n",
       "\n",
       "   Q018 Q019  Q020  Q021  Q022  Q023  Q024  Q025  \n",
       "0     A    B     A     A     C     A     B     B  \n",
       "1     A    B     A     A     C     A     B     B  \n",
       "2     B    C     B     B     D     A     B     B  \n",
       "3     A    B     A     A     E     A     A     B  \n",
       "4     A    E     B     B     C     B     B     B  \n",
       "\n",
       "[5 rows x 118 columns]"
      ]
     },
     "execution_count": 14,
     "metadata": {},
     "output_type": "execute_result"
    }
   ],
   "source": [
    "dados.head()"
   ]
  },
  {
   "cell_type": "code",
   "execution_count": 13,
   "id": "_a8ICW7D-rDt",
   "metadata": {
    "id": "_a8ICW7D-rDt"
   },
   "outputs": [
    {
     "name": "stdout",
     "output_type": "stream",
     "text": [
      "<class 'pandas.core.frame.DataFrame'>\n",
      "RangeIndex: 3311925 entries, 0 to 3311924\n",
      "Columns: 118 entries, NU_INSCRICAO to Q025\n",
      "dtypes: float64(16), int64(68), object(34)\n",
      "memory usage: 2.9+ GB\n"
     ]
    }
   ],
   "source": [
    "dados.info()"
   ]
  },
  {
   "cell_type": "markdown",
   "id": "ce06cba0",
   "metadata": {},
   "source": [
    "dd"
   ]
  },
  {
   "cell_type": "code",
   "execution_count": 11,
   "id": "1b24a0ac",
   "metadata": {},
   "outputs": [
    {
     "data": {
      "text/html": [
       "<div>\n",
       "<style scoped>\n",
       "    .dataframe tbody tr th:only-of-type {\n",
       "        vertical-align: middle;\n",
       "    }\n",
       "\n",
       "    .dataframe tbody tr th {\n",
       "        vertical-align: top;\n",
       "    }\n",
       "\n",
       "    .dataframe thead th {\n",
       "        text-align: right;\n",
       "    }\n",
       "</style>\n",
       "<table border=\"1\" class=\"dataframe\">\n",
       "  <thead>\n",
       "    <tr style=\"text-align: right;\">\n",
       "      <th></th>\n",
       "      <th>CO_MUNICIPIO_RESIDENCIA</th>\n",
       "      <th>CO_UF_RESIDENCIA</th>\n",
       "      <th>NU_IDADE</th>\n",
       "      <th>TP_ESTADO_CIVIL</th>\n",
       "      <th>TP_COR_RACA</th>\n",
       "      <th>TP_NACIONALIDADE</th>\n",
       "      <th>CO_MUNICIPIO_NASCIMENTO</th>\n",
       "      <th>CO_UF_NASCIMENTO</th>\n",
       "      <th>TP_ST_CONCLUSAO</th>\n",
       "      <th>TP_ANO_CONCLUIU</th>\n",
       "      <th>...</th>\n",
       "      <th>TP_PRESENCA_CH</th>\n",
       "      <th>TP_PRESENCA_LC</th>\n",
       "      <th>TP_PRESENCA_MT</th>\n",
       "      <th>NU_NOTA_CN</th>\n",
       "      <th>NU_NOTA_CH</th>\n",
       "      <th>NU_NOTA_LC</th>\n",
       "      <th>NU_NOTA_MT</th>\n",
       "      <th>TP_STATUS_REDACAO</th>\n",
       "      <th>NU_NOTA_REDACAO</th>\n",
       "      <th>Q005</th>\n",
       "    </tr>\n",
       "    <tr>\n",
       "      <th>TP_LINGUA</th>\n",
       "      <th></th>\n",
       "      <th></th>\n",
       "      <th></th>\n",
       "      <th></th>\n",
       "      <th></th>\n",
       "      <th></th>\n",
       "      <th></th>\n",
       "      <th></th>\n",
       "      <th></th>\n",
       "      <th></th>\n",
       "      <th></th>\n",
       "      <th></th>\n",
       "      <th></th>\n",
       "      <th></th>\n",
       "      <th></th>\n",
       "      <th></th>\n",
       "      <th></th>\n",
       "      <th></th>\n",
       "      <th></th>\n",
       "      <th></th>\n",
       "      <th></th>\n",
       "    </tr>\n",
       "  </thead>\n",
       "  <tbody>\n",
       "    <tr>\n",
       "      <th>0</th>\n",
       "      <td>3.207933e+06</td>\n",
       "      <td>31.903614</td>\n",
       "      <td>20.949553</td>\n",
       "      <td>1.047805</td>\n",
       "      <td>1.976757</td>\n",
       "      <td>1.028060</td>\n",
       "      <td>3.187612e+06</td>\n",
       "      <td>31.699715</td>\n",
       "      <td>1.646291</td>\n",
       "      <td>2.416847</td>\n",
       "      <td>...</td>\n",
       "      <td>0.800573</td>\n",
       "      <td>0.800573</td>\n",
       "      <td>0.760893</td>\n",
       "      <td>497.473690</td>\n",
       "      <td>528.007675</td>\n",
       "      <td>537.783295</td>\n",
       "      <td>552.574914</td>\n",
       "      <td>1.106497</td>\n",
       "      <td>604.668655</td>\n",
       "      <td>3.799606</td>\n",
       "    </tr>\n",
       "    <tr>\n",
       "      <th>1</th>\n",
       "      <td>2.975596e+06</td>\n",
       "      <td>29.628023</td>\n",
       "      <td>23.122345</td>\n",
       "      <td>1.100062</td>\n",
       "      <td>2.265863</td>\n",
       "      <td>1.032372</td>\n",
       "      <td>2.942645e+06</td>\n",
       "      <td>29.298375</td>\n",
       "      <td>1.446204</td>\n",
       "      <td>3.458330</td>\n",
       "      <td>...</td>\n",
       "      <td>0.744992</td>\n",
       "      <td>0.744992</td>\n",
       "      <td>0.699666</td>\n",
       "      <td>458.454054</td>\n",
       "      <td>487.022832</td>\n",
       "      <td>503.699806</td>\n",
       "      <td>494.076663</td>\n",
       "      <td>1.171532</td>\n",
       "      <td>538.494793</td>\n",
       "      <td>3.931244</td>\n",
       "    </tr>\n",
       "  </tbody>\n",
       "</table>\n",
       "<p>2 rows × 83 columns</p>\n",
       "</div>"
      ],
      "text/plain": [
       "           CO_MUNICIPIO_RESIDENCIA  CO_UF_RESIDENCIA   NU_IDADE  \\\n",
       "TP_LINGUA                                                         \n",
       "0                     3.207933e+06         31.903614  20.949553   \n",
       "1                     2.975596e+06         29.628023  23.122345   \n",
       "\n",
       "           TP_ESTADO_CIVIL  TP_COR_RACA  TP_NACIONALIDADE  \\\n",
       "TP_LINGUA                                                   \n",
       "0                 1.047805     1.976757          1.028060   \n",
       "1                 1.100062     2.265863          1.032372   \n",
       "\n",
       "           CO_MUNICIPIO_NASCIMENTO  CO_UF_NASCIMENTO  TP_ST_CONCLUSAO  \\\n",
       "TP_LINGUA                                                               \n",
       "0                     3.187612e+06         31.699715         1.646291   \n",
       "1                     2.942645e+06         29.298375         1.446204   \n",
       "\n",
       "           TP_ANO_CONCLUIU  ...  TP_PRESENCA_CH  TP_PRESENCA_LC  \\\n",
       "TP_LINGUA                   ...                                   \n",
       "0                 2.416847  ...        0.800573        0.800573   \n",
       "1                 3.458330  ...        0.744992        0.744992   \n",
       "\n",
       "           TP_PRESENCA_MT  NU_NOTA_CN  NU_NOTA_CH  NU_NOTA_LC  NU_NOTA_MT  \\\n",
       "TP_LINGUA                                                                   \n",
       "0                0.760893  497.473690  528.007675  537.783295  552.574914   \n",
       "1                0.699666  458.454054  487.022832  503.699806  494.076663   \n",
       "\n",
       "           TP_STATUS_REDACAO  NU_NOTA_REDACAO      Q005  \n",
       "TP_LINGUA                                                \n",
       "0                   1.106497       604.668655  3.799606  \n",
       "1                   1.171532       538.494793  3.931244  \n",
       "\n",
       "[2 rows x 83 columns]"
      ]
     },
     "execution_count": 11,
     "metadata": {},
     "output_type": "execute_result"
    }
   ],
   "source": [
    "dados.groupby('TP_LINGUA').mean()\n",
    "\n",
    "\n",
    "\n",
    "\n",
    "\n",
    "#dados.plot(kind='bar', stacked=True, color=['red', 'skyblue', 'green'])\n",
    " \n",
    "# labels for x & y axis\n",
    "#plt.xlabel()\n",
    " \n",
    "# title of plot\n",
    "#plt.title('Monthly Temperatures in a year')"
   ]
  },
  {
   "cell_type": "code",
   "execution_count": 22,
   "id": "41f69998",
   "metadata": {},
   "outputs": [],
   "source": [
    "colunas_selecionadas = [\"NU_NOTA_LC\", \"TP_LINGUA\"]"
   ]
  },
  {
   "cell_type": "code",
   "execution_count": 28,
   "id": "da3cc192",
   "metadata": {},
   "outputs": [
    {
     "data": {
      "text/plain": [
       "<pandas.core.groupby.generic.DataFrameGroupBy object at 0x0000019CCEAA4CA0>"
      ]
     },
     "execution_count": 28,
     "metadata": {},
     "output_type": "execute_result"
    }
   ],
   "source": [
    "enemSelecionado = dados.filter(items=colunas_selecionadas)\n",
    "enemSelecionado.dropna()\n",
    "enemSelecionado.head()\n",
    "\n",
    "enemSelecionado.filter(items=['TP_LINGUA','NU_NOTA_LC']).groupby('TP_LINGUA')"
   ]
  },
  {
   "cell_type": "code",
   "execution_count": 49,
   "id": "40daedb1",
   "metadata": {},
   "outputs": [
    {
     "data": {
      "text/html": [
       "<div>\n",
       "<style scoped>\n",
       "    .dataframe tbody tr th:only-of-type {\n",
       "        vertical-align: middle;\n",
       "    }\n",
       "\n",
       "    .dataframe tbody tr th {\n",
       "        vertical-align: top;\n",
       "    }\n",
       "\n",
       "    .dataframe thead tr th {\n",
       "        text-align: left;\n",
       "    }\n",
       "\n",
       "    .dataframe thead tr:last-of-type th {\n",
       "        text-align: right;\n",
       "    }\n",
       "</style>\n",
       "<table border=\"1\" class=\"dataframe\">\n",
       "  <thead>\n",
       "    <tr>\n",
       "      <th></th>\n",
       "      <th colspan=\"8\" halign=\"left\">NU_NOTA_LC</th>\n",
       "    </tr>\n",
       "    <tr>\n",
       "      <th></th>\n",
       "      <th>count</th>\n",
       "      <th>mean</th>\n",
       "      <th>std</th>\n",
       "      <th>min</th>\n",
       "      <th>25%</th>\n",
       "      <th>50%</th>\n",
       "      <th>75%</th>\n",
       "      <th>max</th>\n",
       "    </tr>\n",
       "    <tr>\n",
       "      <th>TP_LINGUA</th>\n",
       "      <th></th>\n",
       "      <th></th>\n",
       "      <th></th>\n",
       "      <th></th>\n",
       "      <th></th>\n",
       "      <th></th>\n",
       "      <th></th>\n",
       "      <th></th>\n",
       "    </tr>\n",
       "  </thead>\n",
       "  <tbody>\n",
       "    <tr>\n",
       "      <th>0</th>\n",
       "      <td>1257420.0</td>\n",
       "      <td>537.783295</td>\n",
       "      <td>62.845741</td>\n",
       "      <td>0.0</td>\n",
       "      <td>502.8</td>\n",
       "      <td>545.4</td>\n",
       "      <td>581.4</td>\n",
       "      <td>801.7</td>\n",
       "    </tr>\n",
       "    <tr>\n",
       "      <th>1</th>\n",
       "      <td>1292182.0</td>\n",
       "      <td>503.699806</td>\n",
       "      <td>60.860052</td>\n",
       "      <td>0.0</td>\n",
       "      <td>468.5</td>\n",
       "      <td>509.8</td>\n",
       "      <td>545.4</td>\n",
       "      <td>755.6</td>\n",
       "    </tr>\n",
       "  </tbody>\n",
       "</table>\n",
       "</div>"
      ],
      "text/plain": [
       "          NU_NOTA_LC                                                        \n",
       "               count        mean        std  min    25%    50%    75%    max\n",
       "TP_LINGUA                                                                   \n",
       "0          1257420.0  537.783295  62.845741  0.0  502.8  545.4  581.4  801.7\n",
       "1          1292182.0  503.699806  60.860052  0.0  468.5  509.8  545.4  755.6"
      ]
     },
     "execution_count": 49,
     "metadata": {},
     "output_type": "execute_result"
    }
   ],
   "source": [
    "a = enemSelecionado.groupby('TP_LINGUA').describe()\n",
    "a"
   ]
  },
  {
   "cell_type": "code",
   "execution_count": 50,
   "id": "668a9684",
   "metadata": {},
   "outputs": [
    {
     "ename": "NameError",
     "evalue": "name 'notas' is not defined",
     "output_type": "error",
     "traceback": [
      "\u001b[1;31m---------------------------------------------------------------------------\u001b[0m",
      "\u001b[1;31mNameError\u001b[0m                                 Traceback (most recent call last)",
      "\u001b[1;32mc:\\Users\\gabri\\OneDrive\\Área de Trabalho\\Data Science\\Enem\\Enem.ipynb Célula: 13\u001b[0m in \u001b[0;36m<cell line: 1>\u001b[1;34m()\u001b[0m\n\u001b[1;32m----> <a href='vscode-notebook-cell:/c%3A/Users/gabri/OneDrive/%C3%81rea%20de%20Trabalho/Data%20Science/Enem/Enem.ipynb#X13sZmlsZQ%3D%3D?line=0'>1</a>\u001b[0m dados[\u001b[39m'\u001b[39m\u001b[39mNota_media\u001b[39m\u001b[39m'\u001b[39m] \u001b[39m=\u001b[39mdados[notas]\u001b[39m.\u001b[39mmean(axis\u001b[39m=\u001b[39m\u001b[39m1\u001b[39m)\n",
      "\u001b[1;31mNameError\u001b[0m: name 'notas' is not defined"
     ]
    }
   ],
   "source": [
    "dados['Nota_media'] =dados[notas].mean(axis=1)"
   ]
  },
  {
   "cell_type": "code",
   "execution_count": 6,
   "id": "c61daa92",
   "metadata": {},
   "outputs": [],
   "source": [
    "colunas_socio_economico = ['Q001','Q002','Q003','Q004','Q005','Q006','Q007','Q008','Q009','Q010','Q011','Q012','Q013',\n",
    "                           'Q014','Q015','Q016','Q017','Q018','Q019','Q020','Q021','Q022','Q023','Q024','Q025']"
   ]
  },
  {
   "cell_type": "code",
   "execution_count": 17,
   "id": "6726e282",
   "metadata": {},
   "outputs": [
    {
     "data": {
      "text/plain": [
       "0          De R$ 1.996,01 até R$ 2.495,00.\n",
       "1          De R$ 1.996,01 até R$ 2.495,00.\n",
       "2          De R$ 2.495,01 até R$ 2.994,00.\n",
       "3                            Até R$ 998,00\n",
       "4          De R$ 7.984,01 até R$ 8.982,00.\n",
       "                        ...               \n",
       "3311920       De R$ 998,01 até R$ 1.497,00\n",
       "3311921    De R$ 1.996,01 até R$ 2.495,00.\n",
       "3311922    De R$ 2.994,01 até R$ 3.992,00.\n",
       "3311923       De R$ 998,01 até R$ 1.497,00\n",
       "3311924    De R$ 8.982,01 até R$ 9.980,00.\n",
       "Name: renda_familiar, Length: 3311925, dtype: object"
      ]
     },
     "execution_count": 17,
     "metadata": {},
     "output_type": "execute_result"
    }
   ],
   "source": [
    "dict_renda = {\n",
    "    'A': \"Nenhuma renda\"    ,\n",
    "    'B': \"Até R$ 998,00\"    ,\n",
    "    'C': \"De R$ 998,01 até R$ 1.497,00\"   ,\n",
    "    'D': \"De R$ 1.497,01 até R$ 1.996,00.\"    ,\n",
    "    'E': \"De R$ 1.996,01 até R$ 2.495,00.\"    ,\n",
    "    'F': \"De R$ 2.495,01 até R$ 2.994,00.\"    ,\n",
    "    'G': \"De R$ 2.994,01 até R$ 3.992,00.\"    ,\n",
    "    'H': \"De R$ 3.992,01 até R$ 4.990,00.\"    ,\n",
    "    'I': \"De R$ 4.990,01 até R$ 5.988,00.\"    ,\n",
    "    'J': \"De R$ 5.988,01 até R$ 6.986,00.\"    ,\n",
    "    'K': \"De R$ 6.986,01 até R$ 7.984,00.\"    ,\n",
    "    'L': \"De R$ 7.984,01 até R$ 8.982,00.\"    ,\n",
    "    'M': \"De R$ 8.982,01 até R$ 9.980,00.\"    ,\n",
    "    'N': \"De R$ 9.980,01 até R$ 11.976,00.\"   ,\n",
    "    'O': \"De R$ 11.976,01 até R$ 14.970,00.\"   ,\n",
    "    'P': \"De R$ 14.970,01 até R$ 19.960,00.\"   ,\n",
    "    'Q': \"Mais de R$ 19.960,00.\"\n",
    "}\n",
    "dados['renda_familiar'] = dados['Q006'].replace(dict_renda)\n",
    "dados['renda_familiar']"
   ]
  },
  {
   "cell_type": "code",
   "execution_count": 50,
   "id": "gmfZboMZ5FB1",
   "metadata": {
    "id": "gmfZboMZ5FB1"
   },
   "outputs": [
    {
     "name": "stdout",
     "output_type": "stream",
     "text": [
      "NU_INSCRICAO\n",
      "CO_MUNICIPIO_RESIDENCIA\n",
      "NO_MUNICIPIO_RESIDENCIA\n",
      "CO_UF_RESIDENCIA\n",
      "SG_UF_RESIDENCIA\n",
      "NU_IDADE\n",
      "TP_SEXO\n",
      "TP_ESTADO_CIVIL\n",
      "TP_COR_RACA\n",
      "TP_NACIONALIDADE\n",
      "CO_MUNICIPIO_NASCIMENTO\n",
      "NO_MUNICIPIO_NASCIMENTO\n",
      "CO_UF_NASCIMENTO\n",
      "SG_UF_NASCIMENTO\n",
      "TP_ST_CONCLUSAO\n",
      "TP_ANO_CONCLUIU\n",
      "TP_ESCOLA\n",
      "TP_ENSINO\n",
      "IN_TREINEIRO\n",
      "CO_ESCOLA\n",
      "CO_MUNICIPIO_ESC\n",
      "NO_MUNICIPIO_ESC\n",
      "CO_UF_ESC\n",
      "SG_UF_ESC\n",
      "TP_DEPENDENCIA_ADM_ESC\n",
      "TP_LOCALIZACAO_ESC\n",
      "TP_SIT_FUNC_ESC\n",
      "IN_BAIXA_VISAO\n",
      "IN_CEGUEIRA\n",
      "IN_SURDEZ\n",
      "IN_DEFICIENCIA_AUDITIVA\n",
      "IN_SURDO_CEGUEIRA\n",
      "IN_DEFICIENCIA_FISICA\n",
      "IN_DEFICIENCIA_MENTAL\n",
      "IN_DEFICIT_ATENCAO\n",
      "IN_DISLEXIA\n",
      "IN_DISCALCULIA\n",
      "IN_AUTISMO\n",
      "IN_VISAO_MONOCULAR\n",
      "IN_OUTRA_DEF\n",
      "IN_GESTANTE\n",
      "IN_LACTANTE\n",
      "IN_IDOSO\n",
      "IN_ESTUDA_CLASSE_HOSPITALAR\n",
      "IN_SEM_RECURSO\n",
      "IN_BRAILLE\n",
      "IN_AMPLIADA_24\n",
      "IN_AMPLIADA_18\n",
      "IN_LEDOR\n",
      "IN_ACESSO\n",
      "IN_TRANSCRICAO\n",
      "IN_LIBRAS\n",
      "IN_TEMPO_ADICIONAL\n",
      "IN_LEITURA_LABIAL\n",
      "IN_MESA_CADEIRA_RODAS\n",
      "IN_MESA_CADEIRA_SEPARADA\n",
      "IN_APOIO_PERNA\n",
      "IN_GUIA_INTERPRETE\n",
      "IN_COMPUTADOR\n",
      "IN_CADEIRA_ESPECIAL\n",
      "IN_CADEIRA_CANHOTO\n",
      "IN_CADEIRA_ACOLCHOADA\n",
      "IN_PROVA_DEITADO\n",
      "IN_MOBILIARIO_OBESO\n",
      "IN_LAMINA_OVERLAY\n",
      "IN_PROTETOR_AURICULAR\n",
      "IN_MEDIDOR_GLICOSE\n",
      "IN_MAQUINA_BRAILE\n",
      "IN_SOROBAN\n",
      "IN_MARCA_PASSO\n",
      "IN_SONDA\n",
      "IN_MEDICAMENTOS\n",
      "IN_SALA_INDIVIDUAL\n",
      "IN_SALA_ESPECIAL\n",
      "IN_SALA_ACOMPANHANTE\n",
      "IN_MOBILIARIO_ESPECIFICO\n",
      "IN_MATERIAL_ESPECIFICO\n",
      "IN_NOME_SOCIAL\n",
      "CO_MUNICIPIO_PROVA\n",
      "NO_MUNICIPIO_PROVA\n",
      "CO_UF_PROVA\n",
      "SG_UF_PROVA\n",
      "TP_PRESENCA_CN\n",
      "TP_PRESENCA_CH\n",
      "TP_PRESENCA_LC\n",
      "TP_PRESENCA_MT\n",
      "NU_NOTA_CN\n",
      "NU_NOTA_CH\n",
      "NU_NOTA_LC\n",
      "NU_NOTA_MT\n",
      "TP_LINGUA\n",
      "TP_STATUS_REDACAO\n",
      "NU_NOTA_REDACAO\n",
      "Q001\n",
      "Q002\n",
      "Q003\n",
      "Q004\n",
      "Q005\n",
      "Q006\n",
      "Q007\n",
      "Q008\n",
      "Q009\n",
      "Q010\n",
      "Q011\n",
      "Q012\n",
      "Q013\n",
      "Q014\n",
      "Q015\n",
      "Q016\n",
      "Q017\n",
      "Q018\n",
      "Q019\n",
      "Q020\n",
      "Q021\n",
      "Q022\n",
      "Q023\n",
      "Q024\n",
      "Q025\n",
      "renda_familiar\n"
     ]
    }
   ],
   "source": [
    "for column in dados.columns:\n",
    "    print(column)"
   ]
  },
  {
   "cell_type": "code",
   "execution_count": 14,
   "id": "9da091d4",
   "metadata": {},
   "outputs": [
    {
     "ename": "NameError",
     "evalue": "name 'M' is not defined",
     "output_type": "error",
     "traceback": [
      "\u001b[1;31m---------------------------------------------------------------------------\u001b[0m",
      "\u001b[1;31mNameError\u001b[0m                                 Traceback (most recent call last)",
      "\u001b[1;32mc:\\Users\\gabri\\OneDrive\\Área de Trabalho\\Data Science\\Enem\\Enem.ipynb Célula: 17\u001b[0m in \u001b[0;36m<cell line: 1>\u001b[1;34m()\u001b[0m\n\u001b[1;32m----> <a href='vscode-notebook-cell:/c%3A/Users/gabri/OneDrive/%C3%81rea%20de%20Trabalho/Data%20Science/Enem/Enem.ipynb#X21sZmlsZQ%3D%3D?line=0'>1</a>\u001b[0m Id_H \u001b[39m=\u001b[39m (dados[\u001b[39m'\u001b[39m\u001b[39mTP_SEXO\u001b[39m\u001b[39m'\u001b[39m] \u001b[39m==\u001b[39m M)\n\u001b[0;32m      <a href='vscode-notebook-cell:/c%3A/Users/gabri/OneDrive/%C3%81rea%20de%20Trabalho/Data%20Science/Enem/Enem.ipynb#X21sZmlsZQ%3D%3D?line=1'>2</a>\u001b[0m Id_M \u001b[39m=\u001b[39m (dados[\u001b[39m'\u001b[39m\u001b[39mTP_SEXO\u001b[39m\u001b[39m'\u001b[39m] \u001b[39m==\u001b[39m F)\n",
      "\u001b[1;31mNameError\u001b[0m: name 'M' is not defined"
     ]
    }
   ],
   "source": [
    "dados[\"SG_UF_RESIDENCIA\"].value_counts()\n",
    "Id_H = (dados['TP_SEXO'] == M)\n",
    "Id_M = (dados['TP_SEXO'] == F)"
   ]
  },
  {
   "cell_type": "code",
   "execution_count": 17,
   "id": "50a81eb5",
   "metadata": {},
   "outputs": [
    {
     "ename": "ValueError",
     "evalue": "Length of values (1) does not match length of index (2336933)",
     "output_type": "error",
     "traceback": [
      "\u001b[1;31m---------------------------------------------------------------------------\u001b[0m",
      "\u001b[1;31mValueError\u001b[0m                                Traceback (most recent call last)",
      "\u001b[1;32mc:\\Users\\gabri\\OneDrive\\Área de Trabalho\\Data Science\\Enem\\Enem.ipynb Célula: 16\u001b[0m in \u001b[0;36m<cell line: 1>\u001b[1;34m()\u001b[0m\n\u001b[1;32m----> <a href='vscode-notebook-cell:/c%3A/Users/gabri/OneDrive/%C3%81rea%20de%20Trabalho/Data%20Science/Enem/Enem.ipynb#Y120sZmlsZQ%3D%3D?line=0'>1</a>\u001b[0m dados[\u001b[39m'\u001b[39m\u001b[39mID_JOVENS\u001b[39m\u001b[39m'\u001b[39m] \u001b[39m=\u001b[39m dados[\u001b[39m'\u001b[39m\u001b[39mNU_IDADE\u001b[39m\u001b[39m'\u001b[39m]\u001b[39m<\u001b[39m\u001b[39m18\u001b[39m,\n\u001b[0;32m      <a href='vscode-notebook-cell:/c%3A/Users/gabri/OneDrive/%C3%81rea%20de%20Trabalho/Data%20Science/Enem/Enem.ipynb#Y120sZmlsZQ%3D%3D?line=1'>2</a>\u001b[0m dados[\u001b[39m'\u001b[39m\u001b[39mID_ADULTOS\u001b[39m\u001b[39m'\u001b[39m] \u001b[39m=\u001b[39m dados[\u001b[39m'\u001b[39m\u001b[39mNU_IDADE\u001b[39m\u001b[39m'\u001b[39m]\u001b[39m<\u001b[39m\u001b[39m=\u001b[39m\u001b[39m18\u001b[39m\u001b[39m<\u001b[39m\u001b[39m60\u001b[39m,\n\u001b[0;32m      <a href='vscode-notebook-cell:/c%3A/Users/gabri/OneDrive/%C3%81rea%20de%20Trabalho/Data%20Science/Enem/Enem.ipynb#Y120sZmlsZQ%3D%3D?line=2'>3</a>\u001b[0m dados[\u001b[39m'\u001b[39m\u001b[39mID_IDOSOS\u001b[39m\u001b[39m'\u001b[39m] \u001b[39m=\u001b[39m dados[\u001b[39m'\u001b[39m\u001b[39mNU_IDADE\u001b[39m\u001b[39m'\u001b[39m]\u001b[39m<\u001b[39m\u001b[39m=\u001b[39m\u001b[39m18\u001b[39m\u001b[39m<\u001b[39m\u001b[39m60\u001b[39m,\n",
      "File \u001b[1;32mc:\\Users\\gabri\\AppData\\Local\\Programs\\Python\\Python310\\lib\\site-packages\\pandas\\core\\frame.py:3655\u001b[0m, in \u001b[0;36mDataFrame.__setitem__\u001b[1;34m(self, key, value)\u001b[0m\n\u001b[0;32m   3652\u001b[0m     \u001b[39mself\u001b[39m\u001b[39m.\u001b[39m_setitem_array([key], value)\n\u001b[0;32m   3653\u001b[0m \u001b[39melse\u001b[39;00m:\n\u001b[0;32m   3654\u001b[0m     \u001b[39m# set column\u001b[39;00m\n\u001b[1;32m-> 3655\u001b[0m     \u001b[39mself\u001b[39;49m\u001b[39m.\u001b[39;49m_set_item(key, value)\n",
      "File \u001b[1;32mc:\\Users\\gabri\\AppData\\Local\\Programs\\Python\\Python310\\lib\\site-packages\\pandas\\core\\frame.py:3832\u001b[0m, in \u001b[0;36mDataFrame._set_item\u001b[1;34m(self, key, value)\u001b[0m\n\u001b[0;32m   3822\u001b[0m \u001b[39mdef\u001b[39;00m \u001b[39m_set_item\u001b[39m(\u001b[39mself\u001b[39m, key, value) \u001b[39m-\u001b[39m\u001b[39m>\u001b[39m \u001b[39mNone\u001b[39;00m:\n\u001b[0;32m   3823\u001b[0m     \u001b[39m\"\"\"\u001b[39;00m\n\u001b[0;32m   3824\u001b[0m \u001b[39m    Add series to DataFrame in specified column.\u001b[39;00m\n\u001b[0;32m   3825\u001b[0m \n\u001b[1;32m   (...)\u001b[0m\n\u001b[0;32m   3830\u001b[0m \u001b[39m    ensure homogeneity.\u001b[39;00m\n\u001b[0;32m   3831\u001b[0m \u001b[39m    \"\"\"\u001b[39;00m\n\u001b[1;32m-> 3832\u001b[0m     value \u001b[39m=\u001b[39m \u001b[39mself\u001b[39;49m\u001b[39m.\u001b[39;49m_sanitize_column(value)\n\u001b[0;32m   3834\u001b[0m     \u001b[39mif\u001b[39;00m (\n\u001b[0;32m   3835\u001b[0m         key \u001b[39min\u001b[39;00m \u001b[39mself\u001b[39m\u001b[39m.\u001b[39mcolumns\n\u001b[0;32m   3836\u001b[0m         \u001b[39mand\u001b[39;00m value\u001b[39m.\u001b[39mndim \u001b[39m==\u001b[39m \u001b[39m1\u001b[39m\n\u001b[0;32m   3837\u001b[0m         \u001b[39mand\u001b[39;00m \u001b[39mnot\u001b[39;00m is_extension_array_dtype(value)\n\u001b[0;32m   3838\u001b[0m     ):\n\u001b[0;32m   3839\u001b[0m         \u001b[39m# broadcast across multiple columns if necessary\u001b[39;00m\n\u001b[0;32m   3840\u001b[0m         \u001b[39mif\u001b[39;00m \u001b[39mnot\u001b[39;00m \u001b[39mself\u001b[39m\u001b[39m.\u001b[39mcolumns\u001b[39m.\u001b[39mis_unique \u001b[39mor\u001b[39;00m \u001b[39misinstance\u001b[39m(\u001b[39mself\u001b[39m\u001b[39m.\u001b[39mcolumns, MultiIndex):\n",
      "File \u001b[1;32mc:\\Users\\gabri\\AppData\\Local\\Programs\\Python\\Python310\\lib\\site-packages\\pandas\\core\\frame.py:4535\u001b[0m, in \u001b[0;36mDataFrame._sanitize_column\u001b[1;34m(self, value)\u001b[0m\n\u001b[0;32m   4532\u001b[0m     \u001b[39mreturn\u001b[39;00m _reindex_for_setitem(value, \u001b[39mself\u001b[39m\u001b[39m.\u001b[39mindex)\n\u001b[0;32m   4534\u001b[0m \u001b[39mif\u001b[39;00m is_list_like(value):\n\u001b[1;32m-> 4535\u001b[0m     com\u001b[39m.\u001b[39;49mrequire_length_match(value, \u001b[39mself\u001b[39;49m\u001b[39m.\u001b[39;49mindex)\n\u001b[0;32m   4536\u001b[0m \u001b[39mreturn\u001b[39;00m sanitize_array(value, \u001b[39mself\u001b[39m\u001b[39m.\u001b[39mindex, copy\u001b[39m=\u001b[39m\u001b[39mTrue\u001b[39;00m, allow_2d\u001b[39m=\u001b[39m\u001b[39mTrue\u001b[39;00m)\n",
      "File \u001b[1;32mc:\\Users\\gabri\\AppData\\Local\\Programs\\Python\\Python310\\lib\\site-packages\\pandas\\core\\common.py:557\u001b[0m, in \u001b[0;36mrequire_length_match\u001b[1;34m(data, index)\u001b[0m\n\u001b[0;32m    553\u001b[0m \u001b[39m\"\"\"\u001b[39;00m\n\u001b[0;32m    554\u001b[0m \u001b[39mCheck the length of data matches the length of the index.\u001b[39;00m\n\u001b[0;32m    555\u001b[0m \u001b[39m\"\"\"\u001b[39;00m\n\u001b[0;32m    556\u001b[0m \u001b[39mif\u001b[39;00m \u001b[39mlen\u001b[39m(data) \u001b[39m!=\u001b[39m \u001b[39mlen\u001b[39m(index):\n\u001b[1;32m--> 557\u001b[0m     \u001b[39mraise\u001b[39;00m \u001b[39mValueError\u001b[39;00m(\n\u001b[0;32m    558\u001b[0m         \u001b[39m\"\u001b[39m\u001b[39mLength of values \u001b[39m\u001b[39m\"\u001b[39m\n\u001b[0;32m    559\u001b[0m         \u001b[39mf\u001b[39m\u001b[39m\"\u001b[39m\u001b[39m(\u001b[39m\u001b[39m{\u001b[39;00m\u001b[39mlen\u001b[39m(data)\u001b[39m}\u001b[39;00m\u001b[39m) \u001b[39m\u001b[39m\"\u001b[39m\n\u001b[0;32m    560\u001b[0m         \u001b[39m\"\u001b[39m\u001b[39mdoes not match length of index \u001b[39m\u001b[39m\"\u001b[39m\n\u001b[0;32m    561\u001b[0m         \u001b[39mf\u001b[39m\u001b[39m\"\u001b[39m\u001b[39m(\u001b[39m\u001b[39m{\u001b[39;00m\u001b[39mlen\u001b[39m(index)\u001b[39m}\u001b[39;00m\u001b[39m)\u001b[39m\u001b[39m\"\u001b[39m\n\u001b[0;32m    562\u001b[0m     )\n",
      "\u001b[1;31mValueError\u001b[0m: Length of values (1) does not match length of index (2336933)"
     ]
    }
   ],
   "source": [
    "id_jovens = dados['NU_IDADE']<18,\n",
    "id_ = dados['NU_IDADE']<=18<60,\n",
    "dados['ID_IDOSOS'] = dados['NU_IDADE']<=18<60,\n",
    "\n",
    "sns.histplot(data=dados, x=\"NU_IDADE\", hue=\"renda_familiar\")"
   ]
  },
  {
   "cell_type": "code",
   "execution_count": 20,
   "id": "5f948ac9",
   "metadata": {},
   "outputs": [
    {
     "name": "stdout",
     "output_type": "stream",
     "text": [
      "0          False\n",
      "1          False\n",
      "2           True\n",
      "3           True\n",
      "4          False\n",
      "           ...  \n",
      "3311917     True\n",
      "3311920     True\n",
      "3311921    False\n",
      "3311922     True\n",
      "3311924    False\n",
      "Name: NU_IDADE, Length: 2336933, dtype: bool\n"
     ]
    }
   ],
   "source": [
    "print(id_jovens)"
   ]
  },
  {
   "cell_type": "code",
   "execution_count": 2,
   "id": "c074ae8c",
   "metadata": {},
   "outputs": [
    {
     "ename": "NameError",
     "evalue": "name 'sns' is not defined",
     "output_type": "error",
     "traceback": [
      "\u001b[1;31m---------------------------------------------------------------------------\u001b[0m",
      "\u001b[1;31mNameError\u001b[0m                                 Traceback (most recent call last)",
      "\u001b[1;32mc:\\Users\\gabri\\OneDrive\\Área de Trabalho\\Data Science\\Enem\\Enem.ipynb Célula: 18\u001b[0m in \u001b[0;36m<cell line: 1>\u001b[1;34m()\u001b[0m\n\u001b[1;32m----> <a href='vscode-notebook-cell:/c%3A/Users/gabri/OneDrive/%C3%81rea%20de%20Trabalho/Data%20Science/Enem/Enem.ipynb#X24sZmlsZQ%3D%3D?line=0'>1</a>\u001b[0m sns\u001b[39m.\u001b[39mbarplot(data\u001b[39m=\u001b[39mdados, x \u001b[39m=\u001b[39m dados[\u001b[39m'\u001b[39m\u001b[39mTP_ESCOLA\u001b[39m\u001b[39m'\u001b[39m]\u001b[39m.\u001b[39mmap({\u001b[39m1\u001b[39m:\u001b[39m'\u001b[39m\u001b[39mNão respondeu\u001b[39m\u001b[39m'\u001b[39m,\u001b[39m2\u001b[39m:\u001b[39m'\u001b[39m\u001b[39mPública\u001b[39m\u001b[39m'\u001b[39m,\u001b[39m3\u001b[39m:\u001b[39m'\u001b[39m\u001b[39mParticular\u001b[39m\u001b[39m'\u001b[39m}), y \u001b[39m=\u001b[39m dados[\u001b[39m'\u001b[39m\u001b[39mnotaMedia\u001b[39m\u001b[39m'\u001b[39m])\n",
      "\u001b[1;31mNameError\u001b[0m: name 'sns' is not defined"
     ]
    }
   ],
   "source": [
    "sns.barplot(data=dados, x = dados['TP_ESCOLA'].map({1:'Não respondeu',2:'Pública',3:'Particular'}), y = dados['notaMedia'])"
   ]
  },
  {
   "cell_type": "code",
   "execution_count": null,
   "id": "edc7c601",
   "metadata": {},
   "outputs": [],
   "source": []
  },
  {
   "cell_type": "code",
   "execution_count": 8,
   "id": "22600308",
   "metadata": {},
   "outputs": [
    {
     "data": {
      "text/plain": [
       "Text(0.5, 0, 'Sexo')"
      ]
     },
     "execution_count": 8,
     "metadata": {},
     "output_type": "execute_result"
    },
    {
     "data": {
      "image/png": "[encoded data removed]",
      "text/plain": [
       "<Figure size 560x320 with 1 Axes>"
      ]
     },
     "metadata": {
      "needs_background": "light"
     },
     "output_type": "display_data"
    }
   ],
   "source": [
    "fig, ax = plt.subplots(dpi=80, figsize=(7, 4))\n",
    "\n",
    "sns.countplot(data=dados, x=\"TP_SEXO\",\n",
    "             palette=\"RdBu\", ax=ax)\n",
    "\n",
    "for c in ax.containers:\n",
    "    for v in c:\n",
    "        bar_height = v.get_height()\n",
    "        x_value = v.get_x()\n",
    "        text = \"{:.1%}\".format(bar_height/len(dados))\n",
    "        ax.annotate(xy=(x_value, bar_height), text=text)\n",
    "ax.set_ylabel(\"Quantidade de participantes em milhões\")\n",
    "ax.set_xlabel(\"Sexo\")"
   ]
  },
  {
   "cell_type": "code",
   "execution_count": 52,
   "id": "51266d1f",
   "metadata": {},
   "outputs": [
    {
     "data": {
      "text/plain": [
       "0          E\n",
       "1          E\n",
       "2          F\n",
       "3          B\n",
       "4          L\n",
       "          ..\n",
       "3311920    C\n",
       "3311921    E\n",
       "3311922    G\n",
       "3311923    C\n",
       "3311924    M\n",
       "Name: Q006, Length: 3311925, dtype: object"
      ]
     },
     "execution_count": 52,
     "metadata": {},
     "output_type": "execute_result"
    }
   ],
   "source": [
    "dados['Q006']"
   ]
  },
  {
   "cell_type": "code",
   "execution_count": 53,
   "id": "78e53b64",
   "metadata": {
    "scrolled": true
   },
   "outputs": [
    {
     "ename": "SyntaxError",
     "evalue": "invalid syntax. Maybe you meant '==' or ':=' instead of '='? (2094224944.py, line 1)",
     "output_type": "error",
     "traceback": [
      "\u001b[1;36m  Input \u001b[1;32mIn [53]\u001b[1;36m\u001b[0m\n\u001b[1;33m    sns.kdeplot(data=dados, x=\"notaMedia\", (hue=[notaMedia]==\"NU_NOTA_CN\"))\u001b[0m\n\u001b[1;37m                                            ^\u001b[0m\n\u001b[1;31mSyntaxError\u001b[0m\u001b[1;31m:\u001b[0m invalid syntax. Maybe you meant '==' or ':=' instead of '='?\n"
     ]
    }
   ],
   "source": [
    "sns.kdeplot(data=dados, x=\"notaMedia\", (hue=[notaMedia]==\"NU_NOTA_CN\",\"NU_NOTA\"))"
   ]
  },
  {
   "cell_type": "code",
   "execution_count": 86,
   "id": "5ae64117",
   "metadata": {},
   "outputs": [
    {
     "data": {
      "text/plain": [
       "<AxesSubplot:>"
      ]
     },
     "execution_count": 86,
     "metadata": {},
     "output_type": "execute_result"
    },
    {
     "data": {
      "image/png": "[encoded data removed]",
      "text/plain": [
       "<Figure size 576x432 with 1 Axes>"
      ]
     },
     "metadata": {
      "needs_background": "light"
     },
     "output_type": "display_data"
    }
   ],
   "source": [
    "n_Inscritos =len(dados['NU_INSCRICAO'])\n",
    "n_Presentes =len(presentes)\n",
    "dados.query(\"TP_LINGUA == 0\")[\"NU_NOTA_LC\"].plot.box(grid = True, figsize=(8,6))"
   ]
  },
  {
   "cell_type": "code",
   "execution_count": 36,
   "id": "1a92476a",
   "metadata": {},
   "outputs": [
    {
     "data": {
      "text/plain": [
       "<AxesSubplot:xlabel='Q006', ylabel='NU_NOTA_REDACAO'>"
      ]
     },
     "execution_count": 36,
     "metadata": {},
     "output_type": "execute_result"
    },
    {
     "data": {
      "image/png": "[encoded data removed]",
      "text/plain": [
       "<Figure size 720x720 with 1 Axes>"
      ]
     },
     "metadata": {
      "needs_background": "light"
     },
     "output_type": "display_data"
    }
   ],
   "source": [
    "plt.figure(figsize=(10,10))\n",
    "sns.barplot(data=dados, x = 'Q006'.map, y ='NU_NOTA_REDACAO', hue = 'IN_DISLEXIA')"
   ]
  },
  {
   "cell_type": "code",
   "execution_count": 6,
   "id": "98d40ed0",
   "metadata": {},
   "outputs": [
    {
     "ename": "ValueError",
     "evalue": "Could not interpret input 'nota_Media'",
     "output_type": "error",
     "traceback": [
      "\u001b[1;31m---------------------------------------------------------------------------\u001b[0m",
      "\u001b[1;31mValueError\u001b[0m                                Traceback (most recent call last)",
      "\u001b[1;32mc:\\Users\\gabri\\OneDrive\\Área de Trabalho\\Data Science\\Enem\\Enem.ipynb Célula: 25\u001b[0m in \u001b[0;36m<cell line: 2>\u001b[1;34m()\u001b[0m\n\u001b[0;32m      <a href='vscode-notebook-cell:/c%3A/Users/gabri/OneDrive/%C3%81rea%20de%20Trabalho/Data%20Science/Enem/Enem.ipynb#Y123sZmlsZQ%3D%3D?line=0'>1</a>\u001b[0m \u001b[39m# Draw a nested boxplot to show bills by day and time\u001b[39;00m\n\u001b[1;32m----> <a href='vscode-notebook-cell:/c%3A/Users/gabri/OneDrive/%C3%81rea%20de%20Trabalho/Data%20Science/Enem/Enem.ipynb#Y123sZmlsZQ%3D%3D?line=1'>2</a>\u001b[0m sns\u001b[39m.\u001b[39;49mboxplot(x\u001b[39m=\u001b[39;49m\u001b[39m\"\u001b[39;49m\u001b[39mIN_TREINEIRO\u001b[39;49m\u001b[39m\"\u001b[39;49m, y\u001b[39m=\u001b[39;49m\u001b[39m\"\u001b[39;49m\u001b[39mnota_Media\u001b[39;49m\u001b[39m\"\u001b[39;49m,\n\u001b[0;32m      <a href='vscode-notebook-cell:/c%3A/Users/gabri/OneDrive/%C3%81rea%20de%20Trabalho/Data%20Science/Enem/Enem.ipynb#Y123sZmlsZQ%3D%3D?line=2'>3</a>\u001b[0m             hue\u001b[39m=\u001b[39;49m\u001b[39m\"\u001b[39;49m\u001b[39mIN_TREINEIRO\u001b[39;49m\u001b[39m\"\u001b[39;49m, palette\u001b[39m=\u001b[39;49m[\u001b[39m\"\u001b[39;49m\u001b[39mm\u001b[39;49m\u001b[39m\"\u001b[39;49m, \u001b[39m\"\u001b[39;49m\u001b[39mg\u001b[39;49m\u001b[39m\"\u001b[39;49m],\n\u001b[0;32m      <a href='vscode-notebook-cell:/c%3A/Users/gabri/OneDrive/%C3%81rea%20de%20Trabalho/Data%20Science/Enem/Enem.ipynb#Y123sZmlsZQ%3D%3D?line=3'>4</a>\u001b[0m             data\u001b[39m=\u001b[39;49mdados)\n\u001b[0;32m      <a href='vscode-notebook-cell:/c%3A/Users/gabri/OneDrive/%C3%81rea%20de%20Trabalho/Data%20Science/Enem/Enem.ipynb#Y123sZmlsZQ%3D%3D?line=4'>5</a>\u001b[0m sns\u001b[39m.\u001b[39mdespine(offset\u001b[39m=\u001b[39m\u001b[39m10\u001b[39m, trim\u001b[39m=\u001b[39m\u001b[39mTrue\u001b[39;00m)\n",
      "File \u001b[1;32mc:\\Users\\gabri\\AppData\\Local\\Programs\\Python\\Python310\\lib\\site-packages\\seaborn\\_decorators.py:46\u001b[0m, in \u001b[0;36m_deprecate_positional_args.<locals>.inner_f\u001b[1;34m(*args, **kwargs)\u001b[0m\n\u001b[0;32m     36\u001b[0m     warnings\u001b[39m.\u001b[39mwarn(\n\u001b[0;32m     37\u001b[0m         \u001b[39m\"\u001b[39m\u001b[39mPass the following variable\u001b[39m\u001b[39m{}\u001b[39;00m\u001b[39m as \u001b[39m\u001b[39m{}\u001b[39;00m\u001b[39mkeyword arg\u001b[39m\u001b[39m{}\u001b[39;00m\u001b[39m: \u001b[39m\u001b[39m{}\u001b[39;00m\u001b[39m. \u001b[39m\u001b[39m\"\u001b[39m\n\u001b[0;32m     38\u001b[0m         \u001b[39m\"\u001b[39m\u001b[39mFrom version 0.12, the only valid positional argument \u001b[39m\u001b[39m\"\u001b[39m\n\u001b[1;32m   (...)\u001b[0m\n\u001b[0;32m     43\u001b[0m         \u001b[39mFutureWarning\u001b[39;00m\n\u001b[0;32m     44\u001b[0m     )\n\u001b[0;32m     45\u001b[0m kwargs\u001b[39m.\u001b[39mupdate({k: arg \u001b[39mfor\u001b[39;00m k, arg \u001b[39min\u001b[39;00m \u001b[39mzip\u001b[39m(sig\u001b[39m.\u001b[39mparameters, args)})\n\u001b[1;32m---> 46\u001b[0m \u001b[39mreturn\u001b[39;00m f(\u001b[39m*\u001b[39m\u001b[39m*\u001b[39mkwargs)\n",
      "File \u001b[1;32mc:\\Users\\gabri\\AppData\\Local\\Programs\\Python\\Python310\\lib\\site-packages\\seaborn\\categorical.py:2243\u001b[0m, in \u001b[0;36mboxplot\u001b[1;34m(x, y, hue, data, order, hue_order, orient, color, palette, saturation, width, dodge, fliersize, linewidth, whis, ax, **kwargs)\u001b[0m\n\u001b[0;32m   2231\u001b[0m \u001b[39m@_deprecate_positional_args\u001b[39m\n\u001b[0;32m   2232\u001b[0m \u001b[39mdef\u001b[39;00m \u001b[39mboxplot\u001b[39m(\n\u001b[0;32m   2233\u001b[0m     \u001b[39m*\u001b[39m,\n\u001b[1;32m   (...)\u001b[0m\n\u001b[0;32m   2240\u001b[0m     \u001b[39m*\u001b[39m\u001b[39m*\u001b[39mkwargs\n\u001b[0;32m   2241\u001b[0m ):\n\u001b[1;32m-> 2243\u001b[0m     plotter \u001b[39m=\u001b[39m _BoxPlotter(x, y, hue, data, order, hue_order,\n\u001b[0;32m   2244\u001b[0m                           orient, color, palette, saturation,\n\u001b[0;32m   2245\u001b[0m                           width, dodge, fliersize, linewidth)\n\u001b[0;32m   2247\u001b[0m     \u001b[39mif\u001b[39;00m ax \u001b[39mis\u001b[39;00m \u001b[39mNone\u001b[39;00m:\n\u001b[0;32m   2248\u001b[0m         ax \u001b[39m=\u001b[39m plt\u001b[39m.\u001b[39mgca()\n",
      "File \u001b[1;32mc:\\Users\\gabri\\AppData\\Local\\Programs\\Python\\Python310\\lib\\site-packages\\seaborn\\categorical.py:406\u001b[0m, in \u001b[0;36m_BoxPlotter.__init__\u001b[1;34m(self, x, y, hue, data, order, hue_order, orient, color, palette, saturation, width, dodge, fliersize, linewidth)\u001b[0m\n\u001b[0;32m    402\u001b[0m \u001b[39mdef\u001b[39;00m \u001b[39m__init__\u001b[39m(\u001b[39mself\u001b[39m, x, y, hue, data, order, hue_order,\n\u001b[0;32m    403\u001b[0m              orient, color, palette, saturation,\n\u001b[0;32m    404\u001b[0m              width, dodge, fliersize, linewidth):\n\u001b[1;32m--> 406\u001b[0m     \u001b[39mself\u001b[39;49m\u001b[39m.\u001b[39;49mestablish_variables(x, y, hue, data, orient, order, hue_order)\n\u001b[0;32m    407\u001b[0m     \u001b[39mself\u001b[39m\u001b[39m.\u001b[39mestablish_colors(color, palette, saturation)\n\u001b[0;32m    409\u001b[0m     \u001b[39mself\u001b[39m\u001b[39m.\u001b[39mdodge \u001b[39m=\u001b[39m dodge\n",
      "File \u001b[1;32mc:\\Users\\gabri\\AppData\\Local\\Programs\\Python\\Python310\\lib\\site-packages\\seaborn\\categorical.py:153\u001b[0m, in \u001b[0;36m_CategoricalPlotter.establish_variables\u001b[1;34m(self, x, y, hue, data, orient, order, hue_order, units)\u001b[0m\n\u001b[0;32m    151\u001b[0m     \u001b[39mif\u001b[39;00m \u001b[39misinstance\u001b[39m(var, \u001b[39mstr\u001b[39m):\n\u001b[0;32m    152\u001b[0m         err \u001b[39m=\u001b[39m \u001b[39m\"\u001b[39m\u001b[39mCould not interpret input \u001b[39m\u001b[39m'\u001b[39m\u001b[39m{}\u001b[39;00m\u001b[39m'\u001b[39m\u001b[39m\"\u001b[39m\u001b[39m.\u001b[39mformat(var)\n\u001b[1;32m--> 153\u001b[0m         \u001b[39mraise\u001b[39;00m \u001b[39mValueError\u001b[39;00m(err)\n\u001b[0;32m    155\u001b[0m \u001b[39m# Figure out the plotting orientation\u001b[39;00m\n\u001b[0;32m    156\u001b[0m orient \u001b[39m=\u001b[39m infer_orient(\n\u001b[0;32m    157\u001b[0m     x, y, orient, require_numeric\u001b[39m=\u001b[39m\u001b[39mself\u001b[39m\u001b[39m.\u001b[39mrequire_numeric\n\u001b[0;32m    158\u001b[0m )\n",
      "\u001b[1;31mValueError\u001b[0m: Could not interpret input 'nota_Media'"
     ]
    }
   ],
   "source": [
    "# Draw a nested boxplot to show bills by day and time\n",
    "sns.boxplot(x=\"IN_TREINEIRO\", y=\"nota_Media\",\n",
    "            hue=\"IN_TREINEIRO\", palette=[\"m\", \"g\"],\n",
    "            data=dados)\n",
    "sns.despine(offset=10, trim=True)"
   ]
  },
  {
   "cell_type": "code",
   "execution_count": 75,
   "id": "42bb4241",
   "metadata": {
    "scrolled": true
   },
   "outputs": [
    {
     "data": {
      "text/plain": [
       "São Paulo            34358\n",
       "Fortaleza            19346\n",
       "Rio de Janeiro       17771\n",
       "Brasília             13728\n",
       "Manaus               10533\n",
       "                     ...  \n",
       "Aracitaba                1\n",
       "Santa Fé de Goiás        1\n",
       "Iomerê                   1\n",
       "Vanini                   1\n",
       "Coronel Pilar            1\n",
       "Name: NO_MUNICIPIO_ESC, Length: 5271, dtype: int64"
      ]
     },
     "execution_count": 75,
     "metadata": {},
     "output_type": "execute_result"
    }
   ],
   "source": [
    "n_Municipio = dados[\"NO_MUNICIPIO_ESC\"].value_counts()\n",
    "n_Municipio"
   ]
  },
  {
   "cell_type": "code",
   "execution_count": null,
   "id": "d11f1a7f",
   "metadata": {},
   "outputs": [
    {
     "name": "stdout",
     "output_type": "stream",
     "text": [
      "0          31.0\n",
      "1          23.0\n",
      "2          17.0\n",
      "3          16.0\n",
      "4          19.0\n",
      "           ... \n",
      "3311920    17.0\n",
      "3311921    19.0\n",
      "3311922    17.0\n",
      "3311923    27.0\n",
      "3311924    27.0\n",
      "Name: NU_IDADE, Length: 3311925, dtype: float64\n"
     ]
    }
   ],
   "source": [
    "#idade = dados.NU_IDADE()\n",
    "#sns.set_theme(style=\"ticks\")\n",
    "\n",
    "#data=dados\n",
    "#x = [10, 20, 30, 40, 50]\n",
    "#y = dados['NU_IDADE']\n",
    "\n",
    "#sns.lineplot(x, y)\n",
    "#plt.show()\n",
    "print(dados['NU_IDADE'])"
   ]
  },
  {
   "cell_type": "code",
   "execution_count": 91,
   "id": "36fcd60c",
   "metadata": {},
   "outputs": [
    {
     "ename": "ValueError",
     "evalue": "Expected a 1D array, got an array with shape (3311925, 120)",
     "output_type": "error",
     "traceback": [
      "\u001b[1;31m---------------------------------------------------------------------------\u001b[0m",
      "\u001b[1;31mKeyError\u001b[0m                                  Traceback (most recent call last)",
      "File \u001b[1;32mc:\\Users\\gabri\\AppData\\Local\\Programs\\Python\\Python310\\lib\\site-packages\\pandas\\core\\indexes\\base.py:3621\u001b[0m, in \u001b[0;36mIndex.get_loc\u001b[1;34m(self, key, method, tolerance)\u001b[0m\n\u001b[0;32m   3620\u001b[0m \u001b[39mtry\u001b[39;00m:\n\u001b[1;32m-> 3621\u001b[0m     \u001b[39mreturn\u001b[39;00m \u001b[39mself\u001b[39;49m\u001b[39m.\u001b[39;49m_engine\u001b[39m.\u001b[39;49mget_loc(casted_key)\n\u001b[0;32m   3622\u001b[0m \u001b[39mexcept\u001b[39;00m \u001b[39mKeyError\u001b[39;00m \u001b[39mas\u001b[39;00m err:\n",
      "File \u001b[1;32mc:\\Users\\gabri\\AppData\\Local\\Programs\\Python\\Python310\\lib\\site-packages\\pandas\\_libs\\index.pyx:136\u001b[0m, in \u001b[0;36mpandas._libs.index.IndexEngine.get_loc\u001b[1;34m()\u001b[0m\n",
      "File \u001b[1;32mc:\\Users\\gabri\\AppData\\Local\\Programs\\Python\\Python310\\lib\\site-packages\\pandas\\_libs\\index.pyx:163\u001b[0m, in \u001b[0;36mpandas._libs.index.IndexEngine.get_loc\u001b[1;34m()\u001b[0m\n",
      "File \u001b[1;32mpandas\\_libs\\hashtable_class_helper.pxi:5198\u001b[0m, in \u001b[0;36mpandas._libs.hashtable.PyObjectHashTable.get_item\u001b[1;34m()\u001b[0m\n",
      "File \u001b[1;32mpandas\\_libs\\hashtable_class_helper.pxi:5206\u001b[0m, in \u001b[0;36mpandas._libs.hashtable.PyObjectHashTable.get_item\u001b[1;34m()\u001b[0m\n",
      "\u001b[1;31mKeyError\u001b[0m: 'Total'",
      "\nThe above exception was the direct cause of the following exception:\n",
      "\u001b[1;31mKeyError\u001b[0m                                  Traceback (most recent call last)",
      "File \u001b[1;32mc:\\Users\\gabri\\AppData\\Local\\Programs\\Python\\Python310\\lib\\site-packages\\pandas\\core\\frame.py:3799\u001b[0m, in \u001b[0;36mDataFrame._set_item_mgr\u001b[1;34m(self, key, value)\u001b[0m\n\u001b[0;32m   3798\u001b[0m \u001b[39mtry\u001b[39;00m:\n\u001b[1;32m-> 3799\u001b[0m     loc \u001b[39m=\u001b[39m \u001b[39mself\u001b[39;49m\u001b[39m.\u001b[39;49m_info_axis\u001b[39m.\u001b[39;49mget_loc(key)\n\u001b[0;32m   3800\u001b[0m \u001b[39mexcept\u001b[39;00m \u001b[39mKeyError\u001b[39;00m:\n\u001b[0;32m   3801\u001b[0m     \u001b[39m# This item wasn't present, just insert at end\u001b[39;00m\n",
      "File \u001b[1;32mc:\\Users\\gabri\\AppData\\Local\\Programs\\Python\\Python310\\lib\\site-packages\\pandas\\core\\indexes\\base.py:3623\u001b[0m, in \u001b[0;36mIndex.get_loc\u001b[1;34m(self, key, method, tolerance)\u001b[0m\n\u001b[0;32m   3622\u001b[0m \u001b[39mexcept\u001b[39;00m \u001b[39mKeyError\u001b[39;00m \u001b[39mas\u001b[39;00m err:\n\u001b[1;32m-> 3623\u001b[0m     \u001b[39mraise\u001b[39;00m \u001b[39mKeyError\u001b[39;00m(key) \u001b[39mfrom\u001b[39;00m \u001b[39merr\u001b[39;00m\n\u001b[0;32m   3624\u001b[0m \u001b[39mexcept\u001b[39;00m \u001b[39mTypeError\u001b[39;00m:\n\u001b[0;32m   3625\u001b[0m     \u001b[39m# If we have a listlike key, _check_indexing_error will raise\u001b[39;00m\n\u001b[0;32m   3626\u001b[0m     \u001b[39m#  InvalidIndexError. Otherwise we fall through and re-raise\u001b[39;00m\n\u001b[0;32m   3627\u001b[0m     \u001b[39m#  the TypeError.\u001b[39;00m\n",
      "\u001b[1;31mKeyError\u001b[0m: 'Total'",
      "\nDuring handling of the above exception, another exception occurred:\n",
      "\u001b[1;31mValueError\u001b[0m                                Traceback (most recent call last)",
      "\u001b[1;32mc:\\Users\\gabri\\OneDrive\\Área de Trabalho\\Programação\\Python\\Data Science\\Enem\\Enem.ipynb Célula: 20\u001b[0m in \u001b[0;36m<cell line: 3>\u001b[1;34m()\u001b[0m\n\u001b[0;32m      <a href='vscode-notebook-cell:/c%3A/Users/gabri/OneDrive/%C3%81rea%20de%20Trabalho/Programa%C3%A7%C3%A3o/Python/Data%20Science/Enem/Enem.ipynb#Y116sZmlsZQ%3D%3D?line=0'>1</a>\u001b[0m m \u001b[39m=\u001b[39m dados[dados[\u001b[39m\"\u001b[39m\u001b[39mTP_SEXO\u001b[39m\u001b[39m\"\u001b[39m]\u001b[39m==\u001b[39m\u001b[39m\"\u001b[39m\u001b[39mM\u001b[39m\u001b[39m\"\u001b[39m]\n\u001b[0;32m      <a href='vscode-notebook-cell:/c%3A/Users/gabri/OneDrive/%C3%81rea%20de%20Trabalho/Programa%C3%A7%C3%A3o/Python/Data%20Science/Enem/Enem.ipynb#Y116sZmlsZQ%3D%3D?line=1'>2</a>\u001b[0m f \u001b[39m=\u001b[39m dados[dados[\u001b[39m\"\u001b[39m\u001b[39mTP_SEXO\u001b[39m\u001b[39m\"\u001b[39m]\u001b[39m==\u001b[39m\u001b[39m\"\u001b[39m\u001b[39mF\u001b[39m\u001b[39m\"\u001b[39m]\n\u001b[1;32m----> <a href='vscode-notebook-cell:/c%3A/Users/gabri/OneDrive/%C3%81rea%20de%20Trabalho/Programa%C3%A7%C3%A3o/Python/Data%20Science/Enem/Enem.ipynb#Y116sZmlsZQ%3D%3D?line=2'>3</a>\u001b[0m total \u001b[39m=\u001b[39m dados[\u001b[39m'\u001b[39m\u001b[39mTotal\u001b[39m\u001b[39m'\u001b[39m] \u001b[39m=\u001b[39m m \u001b[39m+\u001b[39m f\n\u001b[0;32m      <a href='vscode-notebook-cell:/c%3A/Users/gabri/OneDrive/%C3%81rea%20de%20Trabalho/Programa%C3%A7%C3%A3o/Python/Data%20Science/Enem/Enem.ipynb#Y116sZmlsZQ%3D%3D?line=3'>4</a>\u001b[0m sns\u001b[39m.\u001b[39mset_color_codes(\u001b[39m\"\u001b[39m\u001b[39mpastel\u001b[39m\u001b[39m\"\u001b[39m)\n\u001b[0;32m      <a href='vscode-notebook-cell:/c%3A/Users/gabri/OneDrive/%C3%81rea%20de%20Trabalho/Programa%C3%A7%C3%A3o/Python/Data%20Science/Enem/Enem.ipynb#Y116sZmlsZQ%3D%3D?line=4'>5</a>\u001b[0m sns\u001b[39m.\u001b[39mbarplot(x\u001b[39m=\u001b[39m\u001b[39m\"\u001b[39m\u001b[39mtotal\u001b[39m\u001b[39m\"\u001b[39m, y\u001b[39m=\u001b[39m\u001b[39m\"\u001b[39m\u001b[39mm\u001b[39m\u001b[39m\"\u001b[39m, data \u001b[39m=\u001b[39m dados,\n\u001b[0;32m      <a href='vscode-notebook-cell:/c%3A/Users/gabri/OneDrive/%C3%81rea%20de%20Trabalho/Programa%C3%A7%C3%A3o/Python/Data%20Science/Enem/Enem.ipynb#Y116sZmlsZQ%3D%3D?line=5'>6</a>\u001b[0m             label\u001b[39m=\u001b[39m\u001b[39m\"\u001b[39m\u001b[39mTotal\u001b[39m\u001b[39m\"\u001b[39m, color\u001b[39m=\u001b[39m\u001b[39m\"\u001b[39m\u001b[39mb\u001b[39m\u001b[39m\"\u001b[39m)\n",
      "File \u001b[1;32mc:\\Users\\gabri\\AppData\\Local\\Programs\\Python\\Python310\\lib\\site-packages\\pandas\\core\\frame.py:3645\u001b[0m, in \u001b[0;36mDataFrame.__setitem__\u001b[1;34m(self, key, value)\u001b[0m\n\u001b[0;32m   3643\u001b[0m     \u001b[39mself\u001b[39m\u001b[39m.\u001b[39m_setitem_array(key, value)\n\u001b[0;32m   3644\u001b[0m \u001b[39melif\u001b[39;00m \u001b[39misinstance\u001b[39m(value, DataFrame):\n\u001b[1;32m-> 3645\u001b[0m     \u001b[39mself\u001b[39;49m\u001b[39m.\u001b[39;49m_set_item_frame_value(key, value)\n\u001b[0;32m   3646\u001b[0m \u001b[39melif\u001b[39;00m (\n\u001b[0;32m   3647\u001b[0m     is_list_like(value)\n\u001b[0;32m   3648\u001b[0m     \u001b[39mand\u001b[39;00m \u001b[39mnot\u001b[39;00m \u001b[39mself\u001b[39m\u001b[39m.\u001b[39mcolumns\u001b[39m.\u001b[39mis_unique\n\u001b[0;32m   3649\u001b[0m     \u001b[39mand\u001b[39;00m \u001b[39m1\u001b[39m \u001b[39m<\u001b[39m \u001b[39mlen\u001b[39m(\u001b[39mself\u001b[39m\u001b[39m.\u001b[39mcolumns\u001b[39m.\u001b[39mget_indexer_for([key])) \u001b[39m==\u001b[39m \u001b[39mlen\u001b[39m(value)\n\u001b[0;32m   3650\u001b[0m ):\n\u001b[0;32m   3651\u001b[0m     \u001b[39m# Column to set is duplicated\u001b[39;00m\n\u001b[0;32m   3652\u001b[0m     \u001b[39mself\u001b[39m\u001b[39m.\u001b[39m_setitem_array([key], value)\n",
      "File \u001b[1;32mc:\\Users\\gabri\\AppData\\Local\\Programs\\Python\\Python310\\lib\\site-packages\\pandas\\core\\frame.py:3788\u001b[0m, in \u001b[0;36mDataFrame._set_item_frame_value\u001b[1;34m(self, key, value)\u001b[0m\n\u001b[0;32m   3786\u001b[0m \u001b[39m# now align rows\u001b[39;00m\n\u001b[0;32m   3787\u001b[0m arraylike \u001b[39m=\u001b[39m _reindex_for_setitem(value, \u001b[39mself\u001b[39m\u001b[39m.\u001b[39mindex)\n\u001b[1;32m-> 3788\u001b[0m \u001b[39mself\u001b[39;49m\u001b[39m.\u001b[39;49m_set_item_mgr(key, arraylike)\n",
      "File \u001b[1;32mc:\\Users\\gabri\\AppData\\Local\\Programs\\Python\\Python310\\lib\\site-packages\\pandas\\core\\frame.py:3802\u001b[0m, in \u001b[0;36mDataFrame._set_item_mgr\u001b[1;34m(self, key, value)\u001b[0m\n\u001b[0;32m   3799\u001b[0m     loc \u001b[39m=\u001b[39m \u001b[39mself\u001b[39m\u001b[39m.\u001b[39m_info_axis\u001b[39m.\u001b[39mget_loc(key)\n\u001b[0;32m   3800\u001b[0m \u001b[39mexcept\u001b[39;00m \u001b[39mKeyError\u001b[39;00m:\n\u001b[0;32m   3801\u001b[0m     \u001b[39m# This item wasn't present, just insert at end\u001b[39;00m\n\u001b[1;32m-> 3802\u001b[0m     \u001b[39mself\u001b[39;49m\u001b[39m.\u001b[39;49m_mgr\u001b[39m.\u001b[39;49minsert(\u001b[39mlen\u001b[39;49m(\u001b[39mself\u001b[39;49m\u001b[39m.\u001b[39;49m_info_axis), key, value)\n\u001b[0;32m   3803\u001b[0m \u001b[39melse\u001b[39;00m:\n\u001b[0;32m   3804\u001b[0m     \u001b[39mself\u001b[39m\u001b[39m.\u001b[39m_iset_item_mgr(loc, value)\n",
      "File \u001b[1;32mc:\\Users\\gabri\\AppData\\Local\\Programs\\Python\\Python310\\lib\\site-packages\\pandas\\core\\internals\\managers.py:1235\u001b[0m, in \u001b[0;36mBlockManager.insert\u001b[1;34m(self, loc, item, value)\u001b[0m\n\u001b[0;32m   1233\u001b[0m     value \u001b[39m=\u001b[39m value\u001b[39m.\u001b[39mT\n\u001b[0;32m   1234\u001b[0m     \u001b[39mif\u001b[39;00m \u001b[39mlen\u001b[39m(value) \u001b[39m>\u001b[39m \u001b[39m1\u001b[39m:\n\u001b[1;32m-> 1235\u001b[0m         \u001b[39mraise\u001b[39;00m \u001b[39mValueError\u001b[39;00m(\n\u001b[0;32m   1236\u001b[0m             \u001b[39mf\u001b[39m\u001b[39m\"\u001b[39m\u001b[39mExpected a 1D array, got an array with shape \u001b[39m\u001b[39m{\u001b[39;00mvalue\u001b[39m.\u001b[39mT\u001b[39m.\u001b[39mshape\u001b[39m}\u001b[39;00m\u001b[39m\"\u001b[39m\n\u001b[0;32m   1237\u001b[0m         )\n\u001b[0;32m   1238\u001b[0m \u001b[39melse\u001b[39;00m:\n\u001b[0;32m   1239\u001b[0m     value \u001b[39m=\u001b[39m ensure_block_shape(value, ndim\u001b[39m=\u001b[39m\u001b[39mself\u001b[39m\u001b[39m.\u001b[39mndim)\n",
      "\u001b[1;31mValueError\u001b[0m: Expected a 1D array, got an array with shape (3311925, 120)"
     ]
    }
   ],
   "source": [
    "m = dados[dados[\"TP_SEXO\"]==\"M\"]\n",
    "f = dados[dados[\"TP_SEXO\"]==\"F\"]\n",
    "total = dados['Total'] = m + f\n",
    "sns.set_color_codes(\"pastel\")\n",
    "sns.barplot(x = total, y = m, data = dados,\n",
    "            label=\"Total\", color=\"b\")\n",
    "\n",
    "\n",
    "p1 = plt.bar(ind, menMeans, width, yerr=menStd)\n",
    "p2 = plt.bar(ind, womenMeans, width,\n",
    "             bottom=menMeans, yerr=womenStd)\n"
   ]
  },
  {
   "cell_type": "code",
   "execution_count": null,
   "id": "5a448b58",
   "metadata": {
    "scrolled": false
   },
   "outputs": [],
   "source": [
    "sns.barplot(data=dados, x = dados['TP_ESCOLA'].map({1:'Não respondeu',2:'Pública',3:'Particular'}), y = dados['notaMedia']);\n",
    "plt.ylabel('Nota Média', fontsize=16)\n",
    "plt.xlabel('Modalidade', fontsize=16)"
   ]
  },
  {
   "cell_type": "code",
   "execution_count": null,
   "id": "b9084add",
   "metadata": {},
   "outputs": [],
   "source": [
    "x = dados.groupby('TP_ESCOLA').sum().sort_values(ascending = False)\n",
    "\n",
    "plt.figure(figsize = (10,10))\n",
    "x.plot.pie(autopct = \"%1.1f%%\")\n",
    "plt.title('Sub Category wise plot')\n",
    "plt.show()"
   ]
  },
  {
   "cell_type": "code",
   "execution_count": null,
   "id": "b4f855bc",
   "metadata": {},
   "outputs": [
    {
     "data": {
      "text/plain": [
       "Text(0.5, 0, 'Etnia')"
      ]
     },
     "execution_count": 17,
     "metadata": {},
     "output_type": "execute_result"
    },
    {
     "data": {
      "image/png": "[encoded data removed]",
      "text/plain": [
       "<Figure size 720x576 with 1 Axes>"
      ]
     },
     "metadata": {},
     "output_type": "display_data"
    }
   ],
   "source": [
    "plt.rcParams['figure.figsize'] = (10, 8)\n",
    "sns.barplot(data=dados,\n",
    "            x = dados['TP_COR_RACA'].map({0:'Não declarado',1:'Branca',2:'Preta',3:'Parda',4:'Amarela',5:'Indígena'}), y = dados['notaMedia']);\n",
    "plt.ylabel('Nota Média', fontsize=20)\n",
    "plt.xlabel('Etnia', fontsize=16)"
   ]
  },
  {
   "cell_type": "code",
   "execution_count": null,
   "id": "2647d050",
   "metadata": {},
   "outputs": [],
   "source": [
    "dados['SG_UF_RESIDENCIA'].map({0:'Não declarado',1:'Branca',2:'Preta',3:'Parda',4:'Amarela',5:'Indígena'})\n",
    "#y = dados['notaMedia'])"
   ]
  },
  {
   "cell_type": "code",
   "execution_count": null,
   "id": "40e64e77",
   "metadata": {},
   "outputs": [],
   "source": [
    "df_compacto = df[['renda_familiar','TP_SEXO','NU_IDADE','TP_COR_RACA','TP_ESCOLA','Nota_media']]\n",
    "df_compacto.corr()"
   ]
  },
  {
   "cell_type": "code",
   "execution_count": null,
   "id": "jOK1rstN6WId",
   "metadata": {
    "colab": {
     "base_uri": "https://localhost:8080/",
     "height": 217
    },
    "executionInfo": {
     "elapsed": 283,
     "status": "error",
     "timestamp": 1659614558739,
     "user": {
      "displayName": "Gabriel Akira",
      "userId": "13059527523178606217"
     },
     "user_tz": 180
    },
    "id": "jOK1rstN6WId",
    "outputId": "74299441-8433-44e6-eb31-b88697b1af56"
   },
   "outputs": [],
   "source": [
    "dados['renda_familiar'] = dados.Q006.value_counts()\n",
    "print(dict_renda)"
   ]
  },
  {
   "cell_type": "code",
   "execution_count": null,
   "id": "3-151i2NcRpr",
   "metadata": {
    "colab": {
     "base_uri": "https://localhost:8080/",
     "height": 165
    },
    "executionInfo": {
     "elapsed": 270,
     "status": "error",
     "timestamp": 1659592849773,
     "user": {
      "displayName": "Gabriel Akira",
      "userId": "13059527523178606217"
     },
     "user_tz": 180
    },
    "id": "3-151i2NcRpr",
    "outputId": "0d9ca870-e5b7-44a6-ff84-8cab0cbff6cb"
   },
   "outputs": [],
   "source": [
    "print(A)"
   ]
  },
  {
   "cell_type": "code",
   "execution_count": null,
   "id": "hVGUSoU9QnFw",
   "metadata": {
    "id": "hVGUSoU9QnFw"
   },
   "outputs": [],
   "source": [
    "dados.SG_UF_RESIDENCIA.value_counts()\n",
    "dados['Nota_media'] = dados[notas].mean(axis=1)\n",
    "teste = dados.groupby('SG_UF_RESIDENCIA')['renda_familiar'].mean()\n",
    "fig, ax = plt.subplots(figsize=(16,12))\n",
    "ax.bar(teste.index,teste.values)\n",
    "plt.xsticks(rotation = 90)"
   ]
  },
  {
   "cell_type": "code",
   "execution_count": null,
   "id": "RjUgVrdPMKp_",
   "metadata": {
    "id": "RjUgVrdPMKp_"
   },
   "outputs": [],
   "source": [
    "ax = sns.jointplot(x='SG_UF_RESIDENCIA', y='renda_familiar', data=data_df, size=8, alp"
   ]
  },
  {
   "cell_type": "code",
   "execution_count": null,
   "id": "6dPAmF2oKYwW",
   "metadata": {
    "colab": {
     "base_uri": "https://localhost:8080/",
     "height": 363
    },
    "executionInfo": {
     "elapsed": 1747,
     "status": "error",
     "timestamp": 1659589299859,
     "user": {
      "displayName": "Gabriel Akira",
      "userId": "13059527523178606217"
     },
     "user_tz": 180
    },
    "id": "6dPAmF2oKYwW",
    "outputId": "3078b45e-0da9-4438-93a7-2d2b339335a4"
   },
   "outputs": [],
   "source": [
    "n_por_uf = dados[\"SG_UF_RESIDENCIA\"].value_counts()"
   ]
  },
  {
   "cell_type": "code",
   "execution_count": null,
   "id": "33VUrYdpzPEJ",
   "metadata": {
    "id": "33VUrYdpzPEJ"
   },
   "outputs": [],
   "source": []
  },
  {
   "cell_type": "code",
   "execution_count": null,
   "id": "En8bLMT67-Ex",
   "metadata": {
    "id": "En8bLMT67-Ex"
   },
   "outputs": [],
   "source": [
    "print(dados.NO_MUNICIPIO_RESIDENCIA)"
   ]
  },
  {
   "cell_type": "code",
   "execution_count": null,
   "id": "kBASntCeOMkV",
   "metadata": {
    "colab": {
     "base_uri": "https://localhost:8080/",
     "height": 261
    },
    "executionInfo": {
     "elapsed": 275,
     "status": "ok",
     "timestamp": 1659599069493,
     "user": {
      "displayName": "Gabriel Akira",
      "userId": "13059527523178606217"
     },
     "user_tz": 180
    },
    "id": "kBASntCeOMkV",
    "outputId": "0838b46a-66a9-499f-e9fe-05dbbfed6051"
   },
   "outputs": [
    {
     "ename": "TypeError",
     "evalue": "the first argument must be callable",
     "output_type": "error",
     "traceback": [
      "\u001b[1;31m---------------------------------------------------------------------------\u001b[0m",
      "\u001b[1;31mTypeError\u001b[0m                                 Traceback (most recent call last)",
      "\u001b[1;32mc:\\Users\\gabri\\OneDrive\\Área de Trabalho\\Programação\\Python\\Data Science\\Enem\\Untitled (1).ipynb Célula: 30\u001b[0m in \u001b[0;36m<cell line: 1>\u001b[1;34m()\u001b[0m\n\u001b[1;32m----> <a href='vscode-notebook-cell:/c%3A/Users/gabri/OneDrive/%C3%81rea%20de%20Trabalho/Programa%C3%A7%C3%A3o/Python/Data%20Science/Enem/Untitled%20%281%29.ipynb#X40sZmlsZQ%3D%3D?line=0'>1</a>\u001b[0m raca \u001b[39m=\u001b[39m dados[dados\u001b[39m.\u001b[39;49mcolumns[dados\u001b[39m.\u001b[39;49mcolumns\u001b[39m.\u001b[39;49mstr\u001b[39m.\u001b[39;49mstartswith(\u001b[39m'\u001b[39;49m\u001b[39mTP_COR_RACA\u001b[39;49m\u001b[39m'\u001b[39;49m)]]\u001b[39m.\u001b[39;49mapplymap({\u001b[39m1\u001b[39;49m:\u001b[39m'\u001b[39;49m\u001b[39mNão respondeu\u001b[39;49m\u001b[39m'\u001b[39;49m,\u001b[39m2\u001b[39;49m:\u001b[39m'\u001b[39;49m\u001b[39mPública\u001b[39;49m\u001b[39m'\u001b[39;49m,\u001b[39m3\u001b[39;49m:\u001b[39m'\u001b[39;49m\u001b[39mParticular\u001b[39;49m\u001b[39m'\u001b[39;49m})\n\u001b[0;32m      <a href='vscode-notebook-cell:/c%3A/Users/gabri/OneDrive/%C3%81rea%20de%20Trabalho/Programa%C3%A7%C3%A3o/Python/Data%20Science/Enem/Untitled%20%281%29.ipynb#X40sZmlsZQ%3D%3D?line=2'>3</a>\u001b[0m raca\u001b[39m.\u001b[39mcolumn \u001b[39m=\u001b[39m [\u001b[39m\"\u001b[39m\u001b[39mNão declarado\u001b[39m\u001b[39m\"\u001b[39m, \u001b[39m\"\u001b[39m\u001b[39mBranca\u001b[39m\u001b[39m\"\u001b[39m, \u001b[39m\"\u001b[39m\u001b[39mPreta\u001b[39m\u001b[39m\"\u001b[39m, \u001b[39m\"\u001b[39m\u001b[39mParda\u001b[39m\u001b[39m\"\u001b[39m, \u001b[39m\"\u001b[39m\u001b[39mAmarela\u001b[39m\u001b[39m\"\u001b[39m, \u001b[39m\"\u001b[39m\u001b[39mIndígena\u001b[39m\u001b[39m\"\u001b[39m]\n\u001b[0;32m      <a href='vscode-notebook-cell:/c%3A/Users/gabri/OneDrive/%C3%81rea%20de%20Trabalho/Programa%C3%A7%C3%A3o/Python/Data%20Science/Enem/Untitled%20%281%29.ipynb#X40sZmlsZQ%3D%3D?line=3'>4</a>\u001b[0m raca\u001b[39m.\u001b[39mhead()\n",
      "File \u001b[1;32mc:\\Users\\gabri\\AppData\\Local\\Programs\\Python\\Python310\\lib\\site-packages\\pandas\\core\\frame.py:8916\u001b[0m, in \u001b[0;36mDataFrame.applymap\u001b[1;34m(self, func, na_action, **kwargs)\u001b[0m\n\u001b[0;32m   8912\u001b[0m     \u001b[39mraise\u001b[39;00m \u001b[39mValueError\u001b[39;00m(\n\u001b[0;32m   8913\u001b[0m         \u001b[39mf\u001b[39m\u001b[39m\"\u001b[39m\u001b[39mna_action must be \u001b[39m\u001b[39m'\u001b[39m\u001b[39mignore\u001b[39m\u001b[39m'\u001b[39m\u001b[39m or None. Got \u001b[39m\u001b[39m{\u001b[39;00m\u001b[39mrepr\u001b[39m(na_action)\u001b[39m}\u001b[39;00m\u001b[39m\"\u001b[39m\n\u001b[0;32m   8914\u001b[0m     )\n\u001b[0;32m   8915\u001b[0m ignore_na \u001b[39m=\u001b[39m na_action \u001b[39m==\u001b[39m \u001b[39m\"\u001b[39m\u001b[39mignore\u001b[39m\u001b[39m\"\u001b[39m\n\u001b[1;32m-> 8916\u001b[0m func \u001b[39m=\u001b[39m functools\u001b[39m.\u001b[39mpartial(func, \u001b[39m*\u001b[39m\u001b[39m*\u001b[39mkwargs)\n\u001b[0;32m   8918\u001b[0m \u001b[39m# if we have a dtype == 'M8[ns]', provide boxed values\u001b[39;00m\n\u001b[0;32m   8919\u001b[0m \u001b[39mdef\u001b[39;00m \u001b[39minfer\u001b[39m(x):\n",
      "\u001b[1;31mTypeError\u001b[0m: the first argument must be callable"
     ]
    }
   ],
   "source": [
    "raca = dados[dados.columns[dados.columns.str.startswith('TP_COR_RACA')]].applymap({1:'Não respondeu',2:'Pública',3:'Particular'})\n",
    "\n",
    "raca.column = [\"Não declarado\", \"Branca\", \"Preta\", \"Parda\", \"Amarela\", \"Indígena\"]\n",
    "raca.head()"
   ]
  },
  {
   "cell_type": "code",
   "execution_count": null,
   "id": "iW0wLxAo6fvO",
   "metadata": {
    "colab": {
     "base_uri": "https://localhost:8080/",
     "height": 300
    },
    "executionInfo": {
     "elapsed": 1334,
     "status": "ok",
     "timestamp": 1659586856230,
     "user": {
      "displayName": "Gabriel Akira",
      "userId": "13059527523178606217"
     },
     "user_tz": 180
    },
    "id": "iW0wLxAo6fvO",
    "outputId": "cc8bf114-3809-4632-f35f-1ff2c6f04d39"
   },
   "outputs": [],
   "source": [
    "questionario = dados[dados.columns[dados.columns.str.startswith('Q')]]\n",
    "questionario.head()"
   ]
  },
  {
   "cell_type": "code",
   "execution_count": null,
   "id": "qI4RMEqf6vKq",
   "metadata": {
    "colab": {
     "base_uri": "https://localhost:8080/",
     "height": 300
    },
    "executionInfo": {
     "elapsed": 936,
     "status": "ok",
     "timestamp": 1659587695996,
     "user": {
      "displayName": "Gabriel Akira",
      "userId": "13059527523178606217"
     },
     "user_tz": 180
    },
    "id": "qI4RMEqf6vKq",
    "outputId": "b79b7e60-b1ed-43e0-e681-144db4dfa244"
   },
   "outputs": [],
   "source": [
    "indicadores = dados[dados.columns[dados.columns.str.startswith('IN')]]\n",
    "indicadores.head()"
   ]
  },
  {
   "cell_type": "code",
   "execution_count": null,
   "id": "ZLWiwlbhH-Rr",
   "metadata": {
    "id": "ZLWiwlbhH-Rr"
   },
   "outputs": [],
   "source": []
  },
  {
   "cell_type": "code",
   "execution_count": null,
   "id": "A-U_7qd97Jv7",
   "metadata": {
    "colab": {
     "base_uri": "https://localhost:8080/",
     "height": 829
    },
    "executionInfo": {
     "elapsed": 396030,
     "status": "ok",
     "timestamp": 1659587266556,
     "user": {
      "displayName": "Gabriel Akira",
      "userId": "13059527523178606217"
     },
     "user_tz": 180
    },
    "id": "A-U_7qd97Jv7",
    "outputId": "33aeee36-fe54-4a7f-95ca-d0b4eba86c2e"
   },
   "outputs": [],
   "source": [
    "# TODO: fazer isso só com as colunas numéricas\n",
    "sns.pairplot(dados.iloc[:, :10])"
   ]
  },
  {
   "cell_type": "code",
   "execution_count": null,
   "id": "XV4f0guS9gmu",
   "metadata": {
    "colab": {
     "base_uri": "https://localhost:8080/"
    },
    "executionInfo": {
     "elapsed": 406,
     "status": "ok",
     "timestamp": 1659599141962,
     "user": {
      "displayName": "Gabriel Akira",
      "userId": "13059527523178606217"
     },
     "user_tz": 180
    },
    "id": "XV4f0guS9gmu",
    "outputId": "0531389e-dfc7-4090-d27c-ac34dd809c87"
   },
   "outputs": [
    {
     "ename": "NameError",
     "evalue": "name 'dados' is not defined",
     "output_type": "error",
     "traceback": [
      "\u001b[1;31m---------------------------------------------------------------------------\u001b[0m",
      "\u001b[1;31mNameError\u001b[0m                                 Traceback (most recent call last)",
      "\u001b[1;32mc:\\Users\\gabri\\OneDrive\\Área de Trabalho\\Programação\\Python\\Data Science\\Enem\\Enem.ipynb Célula: 36\u001b[0m in \u001b[0;36m<cell line: 1>\u001b[1;34m()\u001b[0m\n\u001b[1;32m----> <a href='vscode-notebook-cell:/c%3A/Users/gabri/OneDrive/%C3%81rea%20de%20Trabalho/Programa%C3%A7%C3%A3o/Python/Data%20Science/Enem/Enem.ipynb#X46sZmlsZQ%3D%3D?line=0'>1</a>\u001b[0m n_por_uf \u001b[39m=\u001b[39m dados[\u001b[39m\"\u001b[39m\u001b[39mSG_UF_RESIDENCIA\u001b[39m\u001b[39m\"\u001b[39m]\u001b[39m.\u001b[39mvalue_counts()\n\u001b[0;32m      <a href='vscode-notebook-cell:/c%3A/Users/gabri/OneDrive/%C3%81rea%20de%20Trabalho/Programa%C3%A7%C3%A3o/Python/Data%20Science/Enem/Enem.ipynb#X46sZmlsZQ%3D%3D?line=1'>2</a>\u001b[0m sns\u001b[39m.\u001b[39mset_theme(style\u001b[39m=\u001b[39m\u001b[39m\"\u001b[39m\u001b[39mwhitegrid\u001b[39m\u001b[39m\"\u001b[39m)\n\u001b[0;32m      <a href='vscode-notebook-cell:/c%3A/Users/gabri/OneDrive/%C3%81rea%20de%20Trabalho/Programa%C3%A7%C3%A3o/Python/Data%20Science/Enem/Enem.ipynb#X46sZmlsZQ%3D%3D?line=3'>4</a>\u001b[0m g \u001b[39m=\u001b[39m sns\u001b[39m.\u001b[39mcatplot(\n\u001b[0;32m      <a href='vscode-notebook-cell:/c%3A/Users/gabri/OneDrive/%C3%81rea%20de%20Trabalho/Programa%C3%A7%C3%A3o/Python/Data%20Science/Enem/Enem.ipynb#X46sZmlsZQ%3D%3D?line=4'>5</a>\u001b[0m     data\u001b[39m=\u001b[39mdados, kind\u001b[39m=\u001b[39m\u001b[39m\"\u001b[39m\u001b[39mbar\u001b[39m\u001b[39m\"\u001b[39m,\n\u001b[0;32m      <a href='vscode-notebook-cell:/c%3A/Users/gabri/OneDrive/%C3%81rea%20de%20Trabalho/Programa%C3%A7%C3%A3o/Python/Data%20Science/Enem/Enem.ipynb#X46sZmlsZQ%3D%3D?line=5'>6</a>\u001b[0m     x\u001b[39m=\u001b[39m\u001b[39m\"\u001b[39m\u001b[39m\"\u001b[39m, y\u001b[39m=\u001b[39m\u001b[39m\"\u001b[39m\u001b[39mdados.Q006.value_counts\u001b[39m\u001b[39m\"\u001b[39m, hue\u001b[39m=\u001b[39m\u001b[39m\"\u001b[39m\u001b[39mdados.Q006.value_counts\u001b[39m\u001b[39m\"\u001b[39m,\n\u001b[0;32m      <a href='vscode-notebook-cell:/c%3A/Users/gabri/OneDrive/%C3%81rea%20de%20Trabalho/Programa%C3%A7%C3%A3o/Python/Data%20Science/Enem/Enem.ipynb#X46sZmlsZQ%3D%3D?line=6'>7</a>\u001b[0m     ci\u001b[39m=\u001b[39m\u001b[39m\"\u001b[39m\u001b[39msd\u001b[39m\u001b[39m\"\u001b[39m, palette\u001b[39m=\u001b[39m\u001b[39m\"\u001b[39m\u001b[39mdark\u001b[39m\u001b[39m\"\u001b[39m, alpha\u001b[39m=\u001b[39m\u001b[39m.6\u001b[39m, height\u001b[39m=\u001b[39m\u001b[39m6\u001b[39m\n\u001b[0;32m      <a href='vscode-notebook-cell:/c%3A/Users/gabri/OneDrive/%C3%81rea%20de%20Trabalho/Programa%C3%A7%C3%A3o/Python/Data%20Science/Enem/Enem.ipynb#X46sZmlsZQ%3D%3D?line=7'>8</a>\u001b[0m )\n",
      "\u001b[1;31mNameError\u001b[0m: name 'dados' is not defined"
     ]
    }
   ],
   "source": [
    "n_por_uf = dados[\"SG_UF_RESIDENCIA\"].value_counts()\n",
    "sns.set_theme(style=\"whitegrid\")\n",
    "\n",
    "g = sns.catplot(\n",
    "    data=dados, kind=\"bar\",\n",
    "    x=\"\", y=\"dados.Q006.value_counts\", hue=\"dados.Q006.value_counts\",\n",
    "    ci=\"sd\", palette=\"dark\", alpha=.6, height=6\n",
    ")\n",
    "n_por_uf\n",
    "#print(n_por_uf)"
   ]
  },
  {
   "cell_type": "code",
   "execution_count": null,
   "id": "btkwCAAx8NXa",
   "metadata": {
    "colab": {
     "base_uri": "https://localhost:8080/",
     "height": 642
    },
    "executionInfo": {
     "elapsed": 1369,
     "status": "ok",
     "timestamp": 1659587780060,
     "user": {
      "displayName": "Gabriel Akira",
      "userId": "13059527523178606217"
     },
     "user_tz": 180
    },
    "id": "btkwCAAx8NXa",
    "outputId": "dfc6276b-3124-45d2-af9d-bf1a6c48cbcc"
   },
   "outputs": [
    {
     "data": {
      "text/plain": [
       "Text(0.5, 1.0, 'Idade dos participantes do ENEM 2019')"
      ]
     },
     "execution_count": 12,
     "metadata": {},
     "output_type": "execute_result"
    },
    {
     "data": {
      "image/png": "[encoded data removed]",
      "text/plain": [
       "<Figure size 864x720 with 1 Axes>"
      ]
     },
     "metadata": {},
     "output_type": "display_data"
    }
   ],
   "source": [
    "sns.set_theme(style=\"white\", context=\"talk\")\n",
    "dados[\"NU_IDADE\"].hist(bins = 40, figsize = (12,10)).set_title(\"Idade dos participantes do ENEM 2019\")"
   ]
  },
  {
   "cell_type": "code",
   "execution_count": null,
   "id": "wzeFf218CBC8",
   "metadata": {
    "id": "wzeFf218CBC8"
   },
   "outputs": [],
   "source": [
    "sns.set_theme(style=\"whitegrid\")\n",
    "\n",
    "# Draw a nested barplot by species and sex\n",
    "g = sns.catplot(\n",
    "    data=dados, kind=\"bar\",\n",
    "    x=\"\"NU_IDADE\", y=\"body_mass_g\", hue=\"renda_familiar\",\n",
    "    ci=\"sd\", palette=\"dark\", alpha=.6, height=6\n",
    ")\n",
    "g.despine(left=True)\n",
    "g.set_axis_labels(\"\", \"Body mass (g)\")\n",
    "g.legend.set_title(\"\")"
   ]
  },
  {
   "cell_type": "code",
   "execution_count": null,
   "id": "akp2B6lxLFsO",
   "metadata": {
    "id": "akp2B6lxLFsO"
   },
   "outputs": [],
   "source": [
    "\n"
   ]
  },
  {
   "cell_type": "code",
   "execution_count": null,
   "id": "o8Hlkyas83cN",
   "metadata": {
    "id": "o8Hlkyas83cN"
   },
   "outputs": [],
   "source": [
    "  # TODO: fazer isso só com as colunas numéricas\n",
    "plt.figure(figsize=(50, 50))\n",
    "sns.heatmap(dados.corr(), annot=True, fmt='.0%')"
   ]
  },
  {
   "cell_type": "code",
   "execution_count": null,
   "id": "MiEeaYzw_F6c",
   "metadata": {
    "id": "MiEeaYzw_F6c"
   },
   "outputs": [],
   "source": [
    "\"\"\"\n",
    "Como treinar qualquer modelo:\n",
    "\n",
    "Iniciante:\n",
    "* Train test split (se ja nao foi separado, nesse caso nao precisa)\n",
    "* Treino com o dataset de treino\n",
    "* Gera as predições com conjunto de teste (x)\n",
    "* Calcula erros: RMSE, MAE, R2, etc.\n",
    "* Compara os resultados, testa usar menos ou mais variáveis, etc.\n",
    "* Começa so com as numéricas\n",
    "\n",
    "Intermediário:\n",
    "* Train test split (se ja nao foi separado, nesse caso nao precisa)\n",
    "* Validação cruzada com k fold\n",
    "* Gera as predições com o conjunto de teste (x)\n",
    "* Calcula erros: RMSE, MAE, R2, etc.\n",
    "* Compara os resultados de validação e treino\n",
    "\n",
    "\n",
    "Repete o passo para varios modelos. Recomendado: LinearRegession para começar, LinearRegression com algumas variáveis criadas multiplicando, tirando raiz quadrada, polinômio, etc. de variáveis que existe (vc escolhe a função vendo qual tem a maior correlação com o y)\n",
    "Depois se quiser pode usar Ridge, Lasso, ElasticNet, SVR, e fazer tuning de parâmetros \n",
    "\n",
    "Faz um passo para cada nota do enem\n",
    "\"\"\""
   ]
  },
  {
   "cell_type": "markdown",
   "id": "o3D46pHu2SH0",
   "metadata": {
    "id": "o3D46pHu2SH0"
   },
   "source": [
    "## Análise Exploratória de Dados"
   ]
  },
  {
   "cell_type": "code",
   "execution_count": null,
   "id": "Kdj93YKv245g",
   "metadata": {
    "id": "Kdj93YKv245g"
   },
   "outputs": [],
   "source": [
    "?pd.DataFrame.describe"
   ]
  },
  {
   "cell_type": "code",
   "execution_count": null,
   "id": "MipvgfRk28BE",
   "metadata": {
    "id": "MipvgfRk28BE"
   },
   "outputs": [],
   "source": [
    "?pd.DataFrame.info"
   ]
  },
  {
   "cell_type": "code",
   "execution_count": null,
   "id": "feb4ee86",
   "metadata": {
    "id": "feb4ee86"
   },
   "outputs": [],
   "source": [
    "?sns.pairplot"
   ]
  },
  {
   "cell_type": "code",
   "execution_count": null,
   "id": "zY510pvj2HYO",
   "metadata": {
    "id": "zY510pvj2HYO"
   },
   "outputs": [],
   "source": [
    "?sns.heatmap\n",
    "?pd.DataFrame.corr"
   ]
  },
  {
   "cell_type": "markdown",
   "id": "Jj60brGB2X_h",
   "metadata": {
    "id": "Jj60brGB2X_h"
   },
   "source": [
    "## Treino de modelo"
   ]
  },
  {
   "cell_type": "markdown",
   "id": "-ObwhOGT2Z6b",
   "metadata": {
    "id": "-ObwhOGT2Z6b"
   },
   "source": [
    "### Regressão Linear"
   ]
  },
  {
   "cell_type": "code",
   "execution_count": null,
   "id": "c5645rTn2uZz",
   "metadata": {
    "id": "c5645rTn2uZz"
   },
   "outputs": [],
   "source": [
    "# TODO: Testar várias combinações de variáveis e potências, multiplicações, etc."
   ]
  },
  {
   "cell_type": "code",
   "execution_count": null,
   "id": "7Im4K47L2Pkk",
   "metadata": {
    "id": "7Im4K47L2Pkk"
   },
   "outputs": [],
   "source": [
    "?LinearRegression"
   ]
  },
  {
   "cell_type": "code",
   "execution_count": null,
   "id": "3inevq4I21C5",
   "metadata": {
    "id": "3inevq4I21C5"
   },
   "outputs": [],
   "source": [
    "# TODO: Testar normalizar e usar Ridge e Lasso"
   ]
  },
  {
   "cell_type": "code",
   "execution_count": null,
   "id": "QitwwpKvJtM_",
   "metadata": {
    "id": "QitwwpKvJtM_"
   },
   "outputs": [],
   "source": [
    "A = train[train.columns[train.columns.str.startswith('IN_SALA_ESPECIAL')]]"
   ]
  },
  {
   "cell_type": "code",
   "execution_count": null,
   "id": "xSHF0z80K2IX",
   "metadata": {
    "id": "xSHF0z80K2IX"
   },
   "outputs": [],
   "source": [
    "print(A)"
   ]
  },
  {
   "cell_type": "code",
   "execution_count": null,
   "id": "YhGmjIbTK78W",
   "metadata": {
    "id": "YhGmjIbTK78W"
   },
   "outputs": [],
   "source": [
    "b = 0\n",
    "for i in train.columns:\n",
    "  if i.isdecimal():\n",
    "    b = i"
   ]
  },
  {
   "cell_type": "code",
   "execution_count": null,
   "id": "JQT2f4yvvdQk",
   "metadata": {
    "id": "JQT2f4yvvdQk"
   },
   "outputs": [],
   "source": [
    "print(i)"
   ]
  },
  {
   "cell_type": "code",
   "execution_count": null,
   "id": "vbEyt6p5veOM",
   "metadata": {
    "id": "vbEyt6p5veOM"
   },
   "outputs": [],
   "source": []
  }
 ],
 "metadata": {
  "colab": {
   "collapsed_sections": [],
   "name": "Untitled.ipynb",
   "provenance": []
  },
  "interpreter": {
   "hash": "b1be5a1e9e85905d3e4e97ef1b769f5caa870a8a58c9f9e0ae488b6f0a0e1baf"
  },
  "kernelspec": {
   "display_name": "Python 3 (ipykernel)",
   "language": "python",
   "name": "python3"
  },
  "language_info": {
   "codemirror_mode": {
    "name": "ipython",
    "version": 3
   },
   "file_extension": ".py",
   "mimetype": "text/x-python",
   "name": "python",
   "nbconvert_exporter": "python",
   "pygments_lexer": "ipython3",
   "version": "3.10.4"
  }
 },
 "nbformat": 4,
 "nbformat_minor": 5
}
