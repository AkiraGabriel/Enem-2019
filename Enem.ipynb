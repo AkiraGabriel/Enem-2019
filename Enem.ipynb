{
 "cells": [
  {
   "cell_type": "markdown",
   "id": "Zs2RuNBK1jxC",
   "metadata": {
    "id": "Zs2RuNBK1jxC"
   },
   "source": [
    "# ML Olympiad - QUALITY EDUCATION\n",
    "\n",
    "ML Olympiad – Previsão das notas da prova do ENEM ([Link](https://www.kaggle.com/competitions/qualityeducation/data))"
   ]
  },
  {
   "cell_type": "markdown",
   "id": "CNe1goGd1XhN",
   "metadata": {
    "id": "CNe1goGd1XhN"
   },
   "source": [
    "[Dicionário de dados](https://docs.google.com/spreadsheets/d/14C4lbQFEmUnIJN17gr01L8ikXsT27eHZ/edit?usp=sharing&ouid=101143319330377699057&rtpof=true&sd=true) (significado das colunas)"
   ]
  },
  {
   "cell_type": "code",
   "execution_count": 2,
   "id": "AzIjYhiR3eke",
   "metadata": {
    "executionInfo": {
     "elapsed": 783,
     "status": "ok",
     "timestamp": 1659614581522,
     "user": {
      "displayName": "Gabriel Akira",
      "userId": "13059527523178606217"
     },
     "user_tz": 180
    },
    "id": "AzIjYhiR3eke"
   },
   "outputs": [],
   "source": [
    "import numpy as np\n",
    "import pandas as pd\n",
    "#from pandas.api.types import is_numeric_dtype #Acrescentado\n",
    "import seaborn as sns\n",
    "import matplotlib.pyplot as plt\n",
    "%matplotlib inline\n",
    "\n",
    "#from sklearn.model_selection import train_test_split, cross_validate\n",
    "#from sklearn.linear_model import LinearRegression\n",
    "#from sklearn.metrics import mean_squared_error, mean_absolute_error, r2_score"
   ]
  },
  {
   "cell_type": "code",
   "execution_count": 3,
   "id": "-y9QDyyv46Ch",
   "metadata": {
    "colab": {
     "base_uri": "https://localhost:8080/",
     "height": 165
    },
    "executionInfo": {
     "elapsed": 3,
     "status": "error",
     "timestamp": 1659614581522,
     "user": {
      "displayName": "Gabriel Akira",
      "userId": "13059527523178606217"
     },
     "user_tz": 180
    },
    "id": "-y9QDyyv46Ch",
    "outputId": "1ec37b2f-1561-473c-de52-83bd8726740e",
    "scrolled": true
   },
   "outputs": [
    {
     "data": {
      "text/plain": [
       "pandas.core.frame.DataFrame"
      ]
     },
     "execution_count": 3,
     "metadata": {},
     "output_type": "execute_result"
    }
   ],
   "source": [
    "dados = pd.read_csv(r\"C:\\Users\\gabri\\OneDrive\\Área de Trabalho\\Data Science\\qualityeducation\\train.csv\")\n",
    "type(dados)"
   ]
  },
  {
   "cell_type": "code",
   "execution_count": 4,
   "id": "rZm8S3pq-o_O",
   "metadata": {
    "id": "rZm8S3pq-o_O"
   },
   "outputs": [
    {
     "data": {
      "text/html": [
       "<div>\n",
       "<style scoped>\n",
       "    .dataframe tbody tr th:only-of-type {\n",
       "        vertical-align: middle;\n",
       "    }\n",
       "\n",
       "    .dataframe tbody tr th {\n",
       "        vertical-align: top;\n",
       "    }\n",
       "\n",
       "    .dataframe thead th {\n",
       "        text-align: right;\n",
       "    }\n",
       "</style>\n",
       "<table border=\"1\" class=\"dataframe\">\n",
       "  <thead>\n",
       "    <tr style=\"text-align: right;\">\n",
       "      <th></th>\n",
       "      <th>NU_INSCRICAO</th>\n",
       "      <th>CO_MUNICIPIO_RESIDENCIA</th>\n",
       "      <th>NO_MUNICIPIO_RESIDENCIA</th>\n",
       "      <th>CO_UF_RESIDENCIA</th>\n",
       "      <th>SG_UF_RESIDENCIA</th>\n",
       "      <th>NU_IDADE</th>\n",
       "      <th>TP_SEXO</th>\n",
       "      <th>TP_ESTADO_CIVIL</th>\n",
       "      <th>TP_COR_RACA</th>\n",
       "      <th>TP_NACIONALIDADE</th>\n",
       "      <th>...</th>\n",
       "      <th>Q016</th>\n",
       "      <th>Q017</th>\n",
       "      <th>Q018</th>\n",
       "      <th>Q019</th>\n",
       "      <th>Q020</th>\n",
       "      <th>Q021</th>\n",
       "      <th>Q022</th>\n",
       "      <th>Q023</th>\n",
       "      <th>Q024</th>\n",
       "      <th>Q025</th>\n",
       "    </tr>\n",
       "  </thead>\n",
       "  <tbody>\n",
       "    <tr>\n",
       "      <th>0</th>\n",
       "      <td>d7e73c5f-2db8-4089-9bee-d3a0e045f87f</td>\n",
       "      <td>1100023</td>\n",
       "      <td>Ariquemes</td>\n",
       "      <td>11</td>\n",
       "      <td>RO</td>\n",
       "      <td>31.0</td>\n",
       "      <td>F</td>\n",
       "      <td>0</td>\n",
       "      <td>1</td>\n",
       "      <td>1</td>\n",
       "      <td>...</td>\n",
       "      <td>B</td>\n",
       "      <td>A</td>\n",
       "      <td>A</td>\n",
       "      <td>B</td>\n",
       "      <td>A</td>\n",
       "      <td>A</td>\n",
       "      <td>C</td>\n",
       "      <td>A</td>\n",
       "      <td>B</td>\n",
       "      <td>B</td>\n",
       "    </tr>\n",
       "    <tr>\n",
       "      <th>1</th>\n",
       "      <td>668bf6e4-ddf7-4810-b31e-7d325e36de4d</td>\n",
       "      <td>3106200</td>\n",
       "      <td>Belo Horizonte</td>\n",
       "      <td>31</td>\n",
       "      <td>MG</td>\n",
       "      <td>23.0</td>\n",
       "      <td>F</td>\n",
       "      <td>1</td>\n",
       "      <td>3</td>\n",
       "      <td>1</td>\n",
       "      <td>...</td>\n",
       "      <td>A</td>\n",
       "      <td>A</td>\n",
       "      <td>A</td>\n",
       "      <td>B</td>\n",
       "      <td>A</td>\n",
       "      <td>A</td>\n",
       "      <td>C</td>\n",
       "      <td>A</td>\n",
       "      <td>B</td>\n",
       "      <td>B</td>\n",
       "    </tr>\n",
       "    <tr>\n",
       "      <th>2</th>\n",
       "      <td>951e80d6-ac9b-4ff2-8130-fcbc8ac78b16</td>\n",
       "      <td>3139409</td>\n",
       "      <td>Manhuaçu</td>\n",
       "      <td>31</td>\n",
       "      <td>MG</td>\n",
       "      <td>17.0</td>\n",
       "      <td>M</td>\n",
       "      <td>0</td>\n",
       "      <td>3</td>\n",
       "      <td>1</td>\n",
       "      <td>...</td>\n",
       "      <td>B</td>\n",
       "      <td>A</td>\n",
       "      <td>B</td>\n",
       "      <td>C</td>\n",
       "      <td>B</td>\n",
       "      <td>B</td>\n",
       "      <td>D</td>\n",
       "      <td>A</td>\n",
       "      <td>B</td>\n",
       "      <td>B</td>\n",
       "    </tr>\n",
       "    <tr>\n",
       "      <th>3</th>\n",
       "      <td>baf409f9-ddc6-4e82-9a4b-b64b579cd105</td>\n",
       "      <td>2506301</td>\n",
       "      <td>Guarabira</td>\n",
       "      <td>25</td>\n",
       "      <td>PB</td>\n",
       "      <td>16.0</td>\n",
       "      <td>M</td>\n",
       "      <td>1</td>\n",
       "      <td>1</td>\n",
       "      <td>1</td>\n",
       "      <td>...</td>\n",
       "      <td>B</td>\n",
       "      <td>A</td>\n",
       "      <td>A</td>\n",
       "      <td>B</td>\n",
       "      <td>A</td>\n",
       "      <td>A</td>\n",
       "      <td>E</td>\n",
       "      <td>A</td>\n",
       "      <td>A</td>\n",
       "      <td>B</td>\n",
       "    </tr>\n",
       "    <tr>\n",
       "      <th>4</th>\n",
       "      <td>9fd415ac-3421-44ce-810e-599545c3c025</td>\n",
       "      <td>2304400</td>\n",
       "      <td>Fortaleza</td>\n",
       "      <td>23</td>\n",
       "      <td>CE</td>\n",
       "      <td>19.0</td>\n",
       "      <td>M</td>\n",
       "      <td>1</td>\n",
       "      <td>1</td>\n",
       "      <td>1</td>\n",
       "      <td>...</td>\n",
       "      <td>B</td>\n",
       "      <td>A</td>\n",
       "      <td>A</td>\n",
       "      <td>E</td>\n",
       "      <td>B</td>\n",
       "      <td>B</td>\n",
       "      <td>C</td>\n",
       "      <td>B</td>\n",
       "      <td>B</td>\n",
       "      <td>B</td>\n",
       "    </tr>\n",
       "  </tbody>\n",
       "</table>\n",
       "<p>5 rows × 118 columns</p>\n",
       "</div>"
      ],
      "text/plain": [
       "                           NU_INSCRICAO  CO_MUNICIPIO_RESIDENCIA  \\\n",
       "0  d7e73c5f-2db8-4089-9bee-d3a0e045f87f                  1100023   \n",
       "1  668bf6e4-ddf7-4810-b31e-7d325e36de4d                  3106200   \n",
       "2  951e80d6-ac9b-4ff2-8130-fcbc8ac78b16                  3139409   \n",
       "3  baf409f9-ddc6-4e82-9a4b-b64b579cd105                  2506301   \n",
       "4  9fd415ac-3421-44ce-810e-599545c3c025                  2304400   \n",
       "\n",
       "  NO_MUNICIPIO_RESIDENCIA  CO_UF_RESIDENCIA SG_UF_RESIDENCIA  NU_IDADE  \\\n",
       "0               Ariquemes                11               RO      31.0   \n",
       "1          Belo Horizonte                31               MG      23.0   \n",
       "2                Manhuaçu                31               MG      17.0   \n",
       "3               Guarabira                25               PB      16.0   \n",
       "4               Fortaleza                23               CE      19.0   \n",
       "\n",
       "  TP_SEXO  TP_ESTADO_CIVIL  TP_COR_RACA  TP_NACIONALIDADE  ...  Q016 Q017  \\\n",
       "0       F                0            1                 1  ...     B    A   \n",
       "1       F                1            3                 1  ...     A    A   \n",
       "2       M                0            3                 1  ...     B    A   \n",
       "3       M                1            1                 1  ...     B    A   \n",
       "4       M                1            1                 1  ...     B    A   \n",
       "\n",
       "   Q018 Q019  Q020  Q021  Q022  Q023  Q024  Q025  \n",
       "0     A    B     A     A     C     A     B     B  \n",
       "1     A    B     A     A     C     A     B     B  \n",
       "2     B    C     B     B     D     A     B     B  \n",
       "3     A    B     A     A     E     A     A     B  \n",
       "4     A    E     B     B     C     B     B     B  \n",
       "\n",
       "[5 rows x 118 columns]"
      ]
     },
     "execution_count": 4,
     "metadata": {},
     "output_type": "execute_result"
    }
   ],
   "source": [
    "dados.head()"
   ]
  },
  {
   "cell_type": "code",
   "execution_count": 5,
   "id": "95d23135",
   "metadata": {},
   "outputs": [
    {
     "name": "stdout",
     "output_type": "stream",
     "text": [
      "<class 'pandas.core.frame.DataFrame'>\n",
      "RangeIndex: 3311925 entries, 0 to 3311924\n",
      "Columns: 118 entries, NU_INSCRICAO to Q025\n",
      "dtypes: float64(16), int64(68), object(34)\n",
      "memory usage: 2.9+ GB\n"
     ]
    }
   ],
   "source": [
    "dados.info()"
   ]
  },
  {
   "cell_type": "code",
   "execution_count": 9,
   "id": "e8ef834a",
   "metadata": {},
   "outputs": [
    {
     "data": {
      "text/plain": [
       "NU_INSCRICAO                    0\n",
       "CO_MUNICIPIO_RESIDENCIA         0\n",
       "NO_MUNICIPIO_RESIDENCIA         0\n",
       "CO_UF_RESIDENCIA                0\n",
       "SG_UF_RESIDENCIA                0\n",
       "                            ...  \n",
       "Q022                            0\n",
       "Q023                            0\n",
       "Q024                            0\n",
       "Q025                            0\n",
       "nota_Media                 906176\n",
       "Length: 119, dtype: int64"
      ]
     },
     "execution_count": 9,
     "metadata": {},
     "output_type": "execute_result"
    }
   ],
   "source": [
    "dados.isnull().sum()"
   ]
  },
  {
   "cell_type": "code",
   "execution_count": 6,
   "id": "5427500f",
   "metadata": {},
   "outputs": [
    {
     "data": {
      "text/html": [
       "<div>\n",
       "<style scoped>\n",
       "    .dataframe tbody tr th:only-of-type {\n",
       "        vertical-align: middle;\n",
       "    }\n",
       "\n",
       "    .dataframe tbody tr th {\n",
       "        vertical-align: top;\n",
       "    }\n",
       "\n",
       "    .dataframe thead th {\n",
       "        text-align: right;\n",
       "    }\n",
       "</style>\n",
       "<table border=\"1\" class=\"dataframe\">\n",
       "  <thead>\n",
       "    <tr style=\"text-align: right;\">\n",
       "      <th></th>\n",
       "      <th>NU_INSCRICAO</th>\n",
       "      <th>CO_MUNICIPIO_RESIDENCIA</th>\n",
       "      <th>NO_MUNICIPIO_RESIDENCIA</th>\n",
       "      <th>CO_UF_RESIDENCIA</th>\n",
       "      <th>SG_UF_RESIDENCIA</th>\n",
       "      <th>NU_IDADE</th>\n",
       "      <th>TP_SEXO</th>\n",
       "      <th>TP_ESTADO_CIVIL</th>\n",
       "      <th>TP_COR_RACA</th>\n",
       "      <th>TP_NACIONALIDADE</th>\n",
       "      <th>...</th>\n",
       "      <th>Q016</th>\n",
       "      <th>Q017</th>\n",
       "      <th>Q018</th>\n",
       "      <th>Q019</th>\n",
       "      <th>Q020</th>\n",
       "      <th>Q021</th>\n",
       "      <th>Q022</th>\n",
       "      <th>Q023</th>\n",
       "      <th>Q024</th>\n",
       "      <th>Q025</th>\n",
       "    </tr>\n",
       "  </thead>\n",
       "  <tbody>\n",
       "    <tr>\n",
       "      <th>2</th>\n",
       "      <td>951e80d6-ac9b-4ff2-8130-fcbc8ac78b16</td>\n",
       "      <td>3139409</td>\n",
       "      <td>Manhuaçu</td>\n",
       "      <td>31</td>\n",
       "      <td>MG</td>\n",
       "      <td>17.0</td>\n",
       "      <td>M</td>\n",
       "      <td>0</td>\n",
       "      <td>3</td>\n",
       "      <td>1</td>\n",
       "      <td>...</td>\n",
       "      <td>B</td>\n",
       "      <td>A</td>\n",
       "      <td>B</td>\n",
       "      <td>C</td>\n",
       "      <td>B</td>\n",
       "      <td>B</td>\n",
       "      <td>D</td>\n",
       "      <td>A</td>\n",
       "      <td>B</td>\n",
       "      <td>B</td>\n",
       "    </tr>\n",
       "    <tr>\n",
       "      <th>6</th>\n",
       "      <td>cf31ebe2-85d0-4e10-be47-0ea9f49f9242</td>\n",
       "      <td>2111607</td>\n",
       "      <td>São Raimundo das Mangabeiras</td>\n",
       "      <td>21</td>\n",
       "      <td>MA</td>\n",
       "      <td>17.0</td>\n",
       "      <td>F</td>\n",
       "      <td>1</td>\n",
       "      <td>3</td>\n",
       "      <td>1</td>\n",
       "      <td>...</td>\n",
       "      <td>A</td>\n",
       "      <td>A</td>\n",
       "      <td>A</td>\n",
       "      <td>B</td>\n",
       "      <td>B</td>\n",
       "      <td>A</td>\n",
       "      <td>A</td>\n",
       "      <td>A</td>\n",
       "      <td>A</td>\n",
       "      <td>A</td>\n",
       "    </tr>\n",
       "    <tr>\n",
       "      <th>7</th>\n",
       "      <td>e27bdbb9-e320-476a-ba73-1cdd211c436d</td>\n",
       "      <td>3132404</td>\n",
       "      <td>Itajubá</td>\n",
       "      <td>31</td>\n",
       "      <td>MG</td>\n",
       "      <td>18.0</td>\n",
       "      <td>F</td>\n",
       "      <td>1</td>\n",
       "      <td>1</td>\n",
       "      <td>1</td>\n",
       "      <td>...</td>\n",
       "      <td>A</td>\n",
       "      <td>A</td>\n",
       "      <td>A</td>\n",
       "      <td>B</td>\n",
       "      <td>A</td>\n",
       "      <td>B</td>\n",
       "      <td>C</td>\n",
       "      <td>A</td>\n",
       "      <td>A</td>\n",
       "      <td>B</td>\n",
       "    </tr>\n",
       "    <tr>\n",
       "      <th>10</th>\n",
       "      <td>e054769b-4932-4df9-bc8e-bd65538a67fb</td>\n",
       "      <td>2408102</td>\n",
       "      <td>Natal</td>\n",
       "      <td>24</td>\n",
       "      <td>RN</td>\n",
       "      <td>19.0</td>\n",
       "      <td>M</td>\n",
       "      <td>1</td>\n",
       "      <td>3</td>\n",
       "      <td>1</td>\n",
       "      <td>...</td>\n",
       "      <td>B</td>\n",
       "      <td>A</td>\n",
       "      <td>B</td>\n",
       "      <td>C</td>\n",
       "      <td>A</td>\n",
       "      <td>B</td>\n",
       "      <td>E</td>\n",
       "      <td>A</td>\n",
       "      <td>E</td>\n",
       "      <td>B</td>\n",
       "    </tr>\n",
       "    <tr>\n",
       "      <th>14</th>\n",
       "      <td>dbd76c6e-2eb0-461a-a13f-4800ad0ea7a5</td>\n",
       "      <td>3502903</td>\n",
       "      <td>Araçoiaba da Serra</td>\n",
       "      <td>35</td>\n",
       "      <td>SP</td>\n",
       "      <td>17.0</td>\n",
       "      <td>F</td>\n",
       "      <td>1</td>\n",
       "      <td>1</td>\n",
       "      <td>1</td>\n",
       "      <td>...</td>\n",
       "      <td>A</td>\n",
       "      <td>A</td>\n",
       "      <td>B</td>\n",
       "      <td>B</td>\n",
       "      <td>B</td>\n",
       "      <td>A</td>\n",
       "      <td>E</td>\n",
       "      <td>A</td>\n",
       "      <td>B</td>\n",
       "      <td>B</td>\n",
       "    </tr>\n",
       "    <tr>\n",
       "      <th>...</th>\n",
       "      <td>...</td>\n",
       "      <td>...</td>\n",
       "      <td>...</td>\n",
       "      <td>...</td>\n",
       "      <td>...</td>\n",
       "      <td>...</td>\n",
       "      <td>...</td>\n",
       "      <td>...</td>\n",
       "      <td>...</td>\n",
       "      <td>...</td>\n",
       "      <td>...</td>\n",
       "      <td>...</td>\n",
       "      <td>...</td>\n",
       "      <td>...</td>\n",
       "      <td>...</td>\n",
       "      <td>...</td>\n",
       "      <td>...</td>\n",
       "      <td>...</td>\n",
       "      <td>...</td>\n",
       "      <td>...</td>\n",
       "      <td>...</td>\n",
       "    </tr>\n",
       "    <tr>\n",
       "      <th>3311908</th>\n",
       "      <td>9bce1e90-42ac-4a06-9db0-d5bd9aff0963</td>\n",
       "      <td>2607901</td>\n",
       "      <td>Jaboatão dos Guararapes</td>\n",
       "      <td>26</td>\n",
       "      <td>PE</td>\n",
       "      <td>19.0</td>\n",
       "      <td>F</td>\n",
       "      <td>1</td>\n",
       "      <td>1</td>\n",
       "      <td>1</td>\n",
       "      <td>...</td>\n",
       "      <td>B</td>\n",
       "      <td>A</td>\n",
       "      <td>A</td>\n",
       "      <td>A</td>\n",
       "      <td>A</td>\n",
       "      <td>A</td>\n",
       "      <td>D</td>\n",
       "      <td>A</td>\n",
       "      <td>A</td>\n",
       "      <td>B</td>\n",
       "    </tr>\n",
       "    <tr>\n",
       "      <th>3311909</th>\n",
       "      <td>dbd3da80-a721-4b40-95da-6225b8d05df6</td>\n",
       "      <td>1702554</td>\n",
       "      <td>Augustinópolis</td>\n",
       "      <td>17</td>\n",
       "      <td>TO</td>\n",
       "      <td>18.0</td>\n",
       "      <td>M</td>\n",
       "      <td>1</td>\n",
       "      <td>3</td>\n",
       "      <td>1</td>\n",
       "      <td>...</td>\n",
       "      <td>B</td>\n",
       "      <td>A</td>\n",
       "      <td>A</td>\n",
       "      <td>B</td>\n",
       "      <td>A</td>\n",
       "      <td>A</td>\n",
       "      <td>C</td>\n",
       "      <td>A</td>\n",
       "      <td>A</td>\n",
       "      <td>B</td>\n",
       "    </tr>\n",
       "    <tr>\n",
       "      <th>3311917</th>\n",
       "      <td>f6b4d1fc-32fa-446b-96e8-91adc2583644</td>\n",
       "      <td>1500107</td>\n",
       "      <td>Abaetetuba</td>\n",
       "      <td>15</td>\n",
       "      <td>PA</td>\n",
       "      <td>17.0</td>\n",
       "      <td>F</td>\n",
       "      <td>1</td>\n",
       "      <td>3</td>\n",
       "      <td>1</td>\n",
       "      <td>...</td>\n",
       "      <td>A</td>\n",
       "      <td>A</td>\n",
       "      <td>A</td>\n",
       "      <td>B</td>\n",
       "      <td>B</td>\n",
       "      <td>A</td>\n",
       "      <td>C</td>\n",
       "      <td>A</td>\n",
       "      <td>A</td>\n",
       "      <td>A</td>\n",
       "    </tr>\n",
       "    <tr>\n",
       "      <th>3311920</th>\n",
       "      <td>5a7f3179-9134-446e-9f93-67a849cc66d0</td>\n",
       "      <td>3157807</td>\n",
       "      <td>Santa Luzia</td>\n",
       "      <td>31</td>\n",
       "      <td>MG</td>\n",
       "      <td>17.0</td>\n",
       "      <td>F</td>\n",
       "      <td>1</td>\n",
       "      <td>3</td>\n",
       "      <td>1</td>\n",
       "      <td>...</td>\n",
       "      <td>B</td>\n",
       "      <td>A</td>\n",
       "      <td>B</td>\n",
       "      <td>C</td>\n",
       "      <td>A</td>\n",
       "      <td>A</td>\n",
       "      <td>E</td>\n",
       "      <td>B</td>\n",
       "      <td>B</td>\n",
       "      <td>B</td>\n",
       "    </tr>\n",
       "    <tr>\n",
       "      <th>3311921</th>\n",
       "      <td>562627c2-67ec-4062-ba8a-e0088e359254</td>\n",
       "      <td>3106200</td>\n",
       "      <td>Belo Horizonte</td>\n",
       "      <td>31</td>\n",
       "      <td>MG</td>\n",
       "      <td>19.0</td>\n",
       "      <td>M</td>\n",
       "      <td>1</td>\n",
       "      <td>3</td>\n",
       "      <td>1</td>\n",
       "      <td>...</td>\n",
       "      <td>B</td>\n",
       "      <td>A</td>\n",
       "      <td>A</td>\n",
       "      <td>B</td>\n",
       "      <td>B</td>\n",
       "      <td>B</td>\n",
       "      <td>E</td>\n",
       "      <td>B</td>\n",
       "      <td>C</td>\n",
       "      <td>B</td>\n",
       "    </tr>\n",
       "  </tbody>\n",
       "</table>\n",
       "<p>572715 rows × 118 columns</p>\n",
       "</div>"
      ],
      "text/plain": [
       "                                 NU_INSCRICAO  CO_MUNICIPIO_RESIDENCIA  \\\n",
       "2        951e80d6-ac9b-4ff2-8130-fcbc8ac78b16                  3139409   \n",
       "6        cf31ebe2-85d0-4e10-be47-0ea9f49f9242                  2111607   \n",
       "7        e27bdbb9-e320-476a-ba73-1cdd211c436d                  3132404   \n",
       "10       e054769b-4932-4df9-bc8e-bd65538a67fb                  2408102   \n",
       "14       dbd76c6e-2eb0-461a-a13f-4800ad0ea7a5                  3502903   \n",
       "...                                       ...                      ...   \n",
       "3311908  9bce1e90-42ac-4a06-9db0-d5bd9aff0963                  2607901   \n",
       "3311909  dbd3da80-a721-4b40-95da-6225b8d05df6                  1702554   \n",
       "3311917  f6b4d1fc-32fa-446b-96e8-91adc2583644                  1500107   \n",
       "3311920  5a7f3179-9134-446e-9f93-67a849cc66d0                  3157807   \n",
       "3311921  562627c2-67ec-4062-ba8a-e0088e359254                  3106200   \n",
       "\n",
       "              NO_MUNICIPIO_RESIDENCIA  CO_UF_RESIDENCIA SG_UF_RESIDENCIA  \\\n",
       "2                            Manhuaçu                31               MG   \n",
       "6        São Raimundo das Mangabeiras                21               MA   \n",
       "7                             Itajubá                31               MG   \n",
       "10                              Natal                24               RN   \n",
       "14                 Araçoiaba da Serra                35               SP   \n",
       "...                               ...               ...              ...   \n",
       "3311908       Jaboatão dos Guararapes                26               PE   \n",
       "3311909                Augustinópolis                17               TO   \n",
       "3311917                    Abaetetuba                15               PA   \n",
       "3311920                   Santa Luzia                31               MG   \n",
       "3311921                Belo Horizonte                31               MG   \n",
       "\n",
       "         NU_IDADE TP_SEXO  TP_ESTADO_CIVIL  TP_COR_RACA  TP_NACIONALIDADE  \\\n",
       "2            17.0       M                0            3                 1   \n",
       "6            17.0       F                1            3                 1   \n",
       "7            18.0       F                1            1                 1   \n",
       "10           19.0       M                1            3                 1   \n",
       "14           17.0       F                1            1                 1   \n",
       "...           ...     ...              ...          ...               ...   \n",
       "3311908      19.0       F                1            1                 1   \n",
       "3311909      18.0       M                1            3                 1   \n",
       "3311917      17.0       F                1            3                 1   \n",
       "3311920      17.0       F                1            3                 1   \n",
       "3311921      19.0       M                1            3                 1   \n",
       "\n",
       "         ...  Q016 Q017  Q018 Q019  Q020  Q021  Q022  Q023  Q024  Q025  \n",
       "2        ...     B    A     B    C     B     B     D     A     B     B  \n",
       "6        ...     A    A     A    B     B     A     A     A     A     A  \n",
       "7        ...     A    A     A    B     A     B     C     A     A     B  \n",
       "10       ...     B    A     B    C     A     B     E     A     E     B  \n",
       "14       ...     A    A     B    B     B     A     E     A     B     B  \n",
       "...      ...   ...  ...   ...  ...   ...   ...   ...   ...   ...   ...  \n",
       "3311908  ...     B    A     A    A     A     A     D     A     A     B  \n",
       "3311909  ...     B    A     A    B     A     A     C     A     A     B  \n",
       "3311917  ...     A    A     A    B     B     A     C     A     A     A  \n",
       "3311920  ...     B    A     B    C     A     A     E     B     B     B  \n",
       "3311921  ...     B    A     A    B     B     B     E     B     C     B  \n",
       "\n",
       "[572715 rows x 118 columns]"
      ]
     },
     "execution_count": 6,
     "metadata": {},
     "output_type": "execute_result"
    }
   ],
   "source": [
    "dados.dropna()"
   ]
  },
  {
   "cell_type": "markdown",
   "id": "5703fabf",
   "metadata": {},
   "source": [
    "### Excluimos inscritos sem nota média"
   ]
  },
  {
   "cell_type": "code",
   "execution_count": 7,
   "id": "2c9b63f2",
   "metadata": {},
   "outputs": [
    {
     "data": {
      "text/plain": [
       "0          465.025\n",
       "1          444.775\n",
       "2          502.375\n",
       "3          430.450\n",
       "4          668.800\n",
       "            ...   \n",
       "3311917    464.350\n",
       "3311920    483.275\n",
       "3311921    523.925\n",
       "3311922    492.675\n",
       "3311924    631.150\n",
       "Name: nota_Media, Length: 2405749, dtype: float64"
      ]
     },
     "execution_count": 7,
     "metadata": {},
     "output_type": "execute_result"
    }
   ],
   "source": [
    "dados['nota_Media'] = ((dados['NU_NOTA_CN'] + dados['NU_NOTA_CH'] + dados['NU_NOTA_LC'] + dados['NU_NOTA_MT']) / 4)\n",
    "dados['nota_Media'].dropna()"
   ]
  },
  {
   "cell_type": "code",
   "execution_count": 9,
   "id": "6726e282",
   "metadata": {},
   "outputs": [
    {
     "data": {
      "text/plain": [
       "0          De R$ 1.996,01 até R$ 2.495,00.\n",
       "1          De R$ 1.996,01 até R$ 2.495,00.\n",
       "2          De R$ 2.495,01 até R$ 2.994,00.\n",
       "3                            Até R$ 998,00\n",
       "4          De R$ 7.984,01 até R$ 8.982,00.\n",
       "                        ...               \n",
       "3311920       De R$ 998,01 até R$ 1.497,00\n",
       "3311921    De R$ 1.996,01 até R$ 2.495,00.\n",
       "3311922    De R$ 2.994,01 até R$ 3.992,00.\n",
       "3311923       De R$ 998,01 até R$ 1.497,00\n",
       "3311924    De R$ 8.982,01 até R$ 9.980,00.\n",
       "Name: renda_familiar, Length: 3311925, dtype: object"
      ]
     },
     "execution_count": 9,
     "metadata": {},
     "output_type": "execute_result"
    }
   ],
   "source": [
    "dict_renda = {\n",
    "    'A': \"Nenhuma renda\"    ,\n",
    "    'B': \"Até R$ 998,00\"    ,\n",
    "    'C': \"De R$ 998,01 até R$ 1.497,00\"   ,\n",
    "    'D': \"De R$ 1.497,01 até R$ 1.996,00.\"    ,\n",
    "    'E': \"De R$ 1.996,01 até R$ 2.495,00.\"    ,\n",
    "    'F': \"De R$ 2.495,01 até R$ 2.994,00.\"    ,\n",
    "    'G': \"De R$ 2.994,01 até R$ 3.992,00.\"    ,\n",
    "    'H': \"De R$ 3.992,01 até R$ 4.990,00.\"    ,\n",
    "    'I': \"De R$ 4.990,01 até R$ 5.988,00.\"    ,\n",
    "    'J': \"De R$ 5.988,01 até R$ 6.986,00.\"    ,\n",
    "    'K': \"De R$ 6.986,01 até R$ 7.984,00.\"    ,\n",
    "    'L': \"De R$ 7.984,01 até R$ 8.982,00.\"    ,\n",
    "    'M': \"De R$ 8.982,01 até R$ 9.980,00.\"    ,\n",
    "    'N': \"De R$ 9.980,01 até R$ 11.976,00.\"   ,\n",
    "    'O': \"De R$ 11.976,01 até R$ 14.970,00.\"   ,\n",
    "    'P': \"De R$ 14.970,01 até R$ 19.960,00.\"   ,\n",
    "    'Q': \"Mais de R$ 19.960,00.\"\n",
    "}\n",
    "dados['renda_familiar'] = dados['Q006'].replace(dict_renda)\n",
    "dados['renda_familiar']"
   ]
  },
  {
   "cell_type": "code",
   "execution_count": 21,
   "id": "dfc7c470",
   "metadata": {},
   "outputs": [],
   "source": [
    "dicionario_nacionalidade = {\n",
    "    '0': \"Nãp declarados\"    ,\n",
    "    '1': \"Brancos\"    ,\n",
    "    '2': \"Pretos\"   ,\n",
    "    '3': \"Pardos\"    ,\n",
    "    '4': \"Amarelos\"    ,\n",
    "    '5': \"Indígenas\"    ,\n",
    "}\n",
    "\n",
    "dados['TP_COR_RACA'] = dados.TP_COR_RACA.replace(dicionario_nacionalidade)"
   ]
  },
  {
   "cell_type": "code",
   "execution_count": 29,
   "id": "2b318bb2",
   "metadata": {},
   "outputs": [
    {
     "ename": "AttributeError",
     "evalue": "'list' object has no attribute 'map'",
     "output_type": "error",
     "traceback": [
      "\u001b[1;31m---------------------------------------------------------------------------\u001b[0m",
      "\u001b[1;31mAttributeError\u001b[0m                            Traceback (most recent call last)",
      "\u001b[1;32mc:\\Users\\gabri\\OneDrive\\Área de Trabalho\\Data Science\\Enem\\Enem.ipynb Célula: 13\u001b[0m in \u001b[0;36m<cell line: 2>\u001b[1;34m()\u001b[0m\n\u001b[0;32m      <a href='vscode-notebook-cell:/c%3A/Users/gabri/OneDrive/%C3%81rea%20de%20Trabalho/Data%20Science/Enem/Enem.ipynb#X54sZmlsZQ%3D%3D?line=0'>1</a>\u001b[0m plt\u001b[39m.\u001b[39mfigure(figsize\u001b[39m=\u001b[39m(\u001b[39m15\u001b[39m,\u001b[39m4\u001b[39m))\n\u001b[1;32m----> <a href='vscode-notebook-cell:/c%3A/Users/gabri/OneDrive/%C3%81rea%20de%20Trabalho/Data%20Science/Enem/Enem.ipynb#X54sZmlsZQ%3D%3D?line=1'>2</a>\u001b[0m sns\u001b[39m.\u001b[39mjointplot([\u001b[39m\"\u001b[39;49m\u001b[39mTP_NACIONALIDADE\u001b[39;49m\u001b[39m\"\u001b[39;49m]\u001b[39m.\u001b[39;49mmap({\u001b[39m0\u001b[39m:\u001b[39m'\u001b[39m\u001b[39mNão declarado\u001b[39m\u001b[39m'\u001b[39m,\u001b[39m1\u001b[39m:\u001b[39m'\u001b[39m\u001b[39mBranca\u001b[39m\u001b[39m'\u001b[39m,\u001b[39m2\u001b[39m:\u001b[39m'\u001b[39m\u001b[39mPreta\u001b[39m\u001b[39m'\u001b[39m,\u001b[39m3\u001b[39m:\u001b[39m'\u001b[39m\u001b[39mParda\u001b[39m\u001b[39m'\u001b[39m,\u001b[39m4\u001b[39m:\u001b[39m'\u001b[39m\u001b[39mAmarela\u001b[39m\u001b[39m'\u001b[39m,\u001b[39m5\u001b[39m:\u001b[39m'\u001b[39m\u001b[39mIndígena\u001b[39m\u001b[39m'\u001b[39m}) ,\u001b[39m'\u001b[39m\u001b[39mnota_Media\u001b[39m\u001b[39m'\u001b[39m,data\u001b[39m=\u001b[39mdados, kind\u001b[39m=\u001b[39m\u001b[39m\"\u001b[39m\u001b[39mscatter\u001b[39m\u001b[39m\"\u001b[39m, hue\u001b[39m=\u001b[39m\u001b[39m\"\u001b[39m\u001b[39mTP_COR_RACA\u001b[39m\u001b[39m\"\u001b[39m)\n\u001b[0;32m      <a href='vscode-notebook-cell:/c%3A/Users/gabri/OneDrive/%C3%81rea%20de%20Trabalho/Data%20Science/Enem/Enem.ipynb#X54sZmlsZQ%3D%3D?line=2'>3</a>\u001b[0m plt\u001b[39m.\u001b[39mshow()\n\u001b[0;32m      <a href='vscode-notebook-cell:/c%3A/Users/gabri/OneDrive/%C3%81rea%20de%20Trabalho/Data%20Science/Enem/Enem.ipynb#X54sZmlsZQ%3D%3D?line=3'>4</a>\u001b[0m plt\u001b[39m.\u001b[39mxlabel(\u001b[39m\"\u001b[39m\u001b[39m\"\u001b[39m)\n",
      "\u001b[1;31mAttributeError\u001b[0m: 'list' object has no attribute 'map'"
     ]
    },
    {
     "data": {
      "text/plain": [
       "<Figure size 1080x288 with 0 Axes>"
      ]
     },
     "metadata": {},
     "output_type": "display_data"
    }
   ],
   "source": [
    "plt.figure(figsize=(15,4))\n",
    "sns.jointplot([\"TP_NACIONALIDADE\"].map({0:'Não declarado',1:'Branca',2:'Preta',3:'Parda',4:'Amarela',5:'Indígena'}) ,'nota_Media',data=dados, kind=\"scatter\", hue=\"TP_COR_RACA\")\n",
    "plt.show()\n",
    "plt.xlabel(\"\")"
   ]
  },
  {
   "cell_type": "code",
   "execution_count": 8,
   "id": "df88c365",
   "metadata": {},
   "outputs": [],
   "source": [
    "nota_E = dados[(dados['nota_Media'] > 0) & (dados['nota_Media'] <= 200)]\n",
    "nota_D = dados[(dados['nota_Media'] > 200) & (dados['nota_Media'] <= 400)]\n",
    "nota_C = dados[(dados['nota_Media'] > 400) & (dados['nota_Media'] <= 600)]\n",
    "nota_B = dados[(dados['nota_Media'] > 600) & (dados['nota_Media'] <= 800)]\n",
    "nota_A = dados[(dados['nota_Media'] > 800) & (dados['nota_Media'] <= 1000)]"
   ]
  },
  {
   "cell_type": "code",
   "execution_count": 16,
   "id": "c61daa92",
   "metadata": {},
   "outputs": [],
   "source": [
    "colunas_socio_economico = ['Q001','Q002','Q003','Q004','Q005','Q006','Q007','Q008','Q009','Q010','Q011','Q012','Q013',\n",
    "                           'Q014','Q015','Q016','Q017','Q018','Q019','Q020','Q021','Q022','Q023','Q024','Q025']"
   ]
  },
  {
   "cell_type": "code",
   "execution_count": 11,
   "id": "d6071f75",
   "metadata": {},
   "outputs": [
    {
     "data": {
      "text/plain": [
       "0               Ariquemes\n",
       "1          Belo Horizonte\n",
       "2                Manhuaçu\n",
       "3               Guarabira\n",
       "4               Fortaleza\n",
       "                ...      \n",
       "3311920       Santa Luzia\n",
       "3311921    Belo Horizonte\n",
       "3311922       Passo Fundo\n",
       "3311923       Santa Maria\n",
       "3311924         São Paulo\n",
       "Name: NO_MUNICIPIO_RESIDENCIA, Length: 3311925, dtype: object"
      ]
     },
     "execution_count": 11,
     "metadata": {},
     "output_type": "execute_result"
    }
   ],
   "source": [
    "dados[\"NO_MUNICIPIO_RESIDENCIA\"]"
   ]
  },
  {
   "cell_type": "code",
   "execution_count": 19,
   "id": "f938da22",
   "metadata": {},
   "outputs": [],
   "source": [
    "col_Analise = [\"NU_INSCRICAO\", \"SG_UF_RESIDENCIA\", \"NU_IDADE\", \"TP_SEXO\", \"TP_ESTADO_CIVIL\",\"TP_COR_RACA\", \"TP_ESCOLA\", \"nota_Media\"]"
   ]
  },
  {
   "cell_type": "code",
   "execution_count": 20,
   "id": "45f089d1",
   "metadata": {},
   "outputs": [
    {
     "data": {
      "text/html": [
       "<div>\n",
       "<style scoped>\n",
       "    .dataframe tbody tr th:only-of-type {\n",
       "        vertical-align: middle;\n",
       "    }\n",
       "\n",
       "    .dataframe tbody tr th {\n",
       "        vertical-align: top;\n",
       "    }\n",
       "\n",
       "    .dataframe thead th {\n",
       "        text-align: right;\n",
       "    }\n",
       "</style>\n",
       "<table border=\"1\" class=\"dataframe\">\n",
       "  <thead>\n",
       "    <tr style=\"text-align: right;\">\n",
       "      <th></th>\n",
       "      <th>NU_INSCRICAO</th>\n",
       "      <th>SG_UF_RESIDENCIA</th>\n",
       "      <th>NU_IDADE</th>\n",
       "      <th>TP_SEXO</th>\n",
       "      <th>TP_ESTADO_CIVIL</th>\n",
       "      <th>TP_COR_RACA</th>\n",
       "      <th>TP_ESCOLA</th>\n",
       "      <th>nota_Media</th>\n",
       "    </tr>\n",
       "  </thead>\n",
       "  <tbody>\n",
       "    <tr>\n",
       "      <th>0</th>\n",
       "      <td>d7e73c5f-2db8-4089-9bee-d3a0e045f87f</td>\n",
       "      <td>RO</td>\n",
       "      <td>31.0</td>\n",
       "      <td>F</td>\n",
       "      <td>0</td>\n",
       "      <td>1</td>\n",
       "      <td>1</td>\n",
       "      <td>465.025</td>\n",
       "    </tr>\n",
       "    <tr>\n",
       "      <th>1</th>\n",
       "      <td>668bf6e4-ddf7-4810-b31e-7d325e36de4d</td>\n",
       "      <td>MG</td>\n",
       "      <td>23.0</td>\n",
       "      <td>F</td>\n",
       "      <td>1</td>\n",
       "      <td>3</td>\n",
       "      <td>1</td>\n",
       "      <td>444.775</td>\n",
       "    </tr>\n",
       "    <tr>\n",
       "      <th>2</th>\n",
       "      <td>951e80d6-ac9b-4ff2-8130-fcbc8ac78b16</td>\n",
       "      <td>MG</td>\n",
       "      <td>17.0</td>\n",
       "      <td>M</td>\n",
       "      <td>0</td>\n",
       "      <td>3</td>\n",
       "      <td>2</td>\n",
       "      <td>502.375</td>\n",
       "    </tr>\n",
       "    <tr>\n",
       "      <th>3</th>\n",
       "      <td>baf409f9-ddc6-4e82-9a4b-b64b579cd105</td>\n",
       "      <td>PB</td>\n",
       "      <td>16.0</td>\n",
       "      <td>M</td>\n",
       "      <td>1</td>\n",
       "      <td>1</td>\n",
       "      <td>1</td>\n",
       "      <td>430.450</td>\n",
       "    </tr>\n",
       "    <tr>\n",
       "      <th>4</th>\n",
       "      <td>9fd415ac-3421-44ce-810e-599545c3c025</td>\n",
       "      <td>CE</td>\n",
       "      <td>19.0</td>\n",
       "      <td>M</td>\n",
       "      <td>1</td>\n",
       "      <td>1</td>\n",
       "      <td>1</td>\n",
       "      <td>668.800</td>\n",
       "    </tr>\n",
       "  </tbody>\n",
       "</table>\n",
       "</div>"
      ],
      "text/plain": [
       "                           NU_INSCRICAO SG_UF_RESIDENCIA  NU_IDADE TP_SEXO  \\\n",
       "0  d7e73c5f-2db8-4089-9bee-d3a0e045f87f               RO      31.0       F   \n",
       "1  668bf6e4-ddf7-4810-b31e-7d325e36de4d               MG      23.0       F   \n",
       "2  951e80d6-ac9b-4ff2-8130-fcbc8ac78b16               MG      17.0       M   \n",
       "3  baf409f9-ddc6-4e82-9a4b-b64b579cd105               PB      16.0       M   \n",
       "4  9fd415ac-3421-44ce-810e-599545c3c025               CE      19.0       M   \n",
       "\n",
       "   TP_ESTADO_CIVIL  TP_COR_RACA  TP_ESCOLA  nota_Media  \n",
       "0                0            1          1     465.025  \n",
       "1                1            3          1     444.775  \n",
       "2                0            3          2     502.375  \n",
       "3                1            1          1     430.450  \n",
       "4                1            1          1     668.800  "
      ]
     },
     "execution_count": 20,
     "metadata": {},
     "output_type": "execute_result"
    }
   ],
   "source": [
    "microDados = dados.filter(items=col_Analise)\n",
    "microDados.head()"
   ]
  },
  {
   "cell_type": "code",
   "execution_count": 28,
   "id": "22600308",
   "metadata": {},
   "outputs": [
    {
     "data": {
      "text/plain": [
       "Text(0.5, 0, 'Sexo')"
      ]
     },
     "execution_count": 28,
     "metadata": {},
     "output_type": "execute_result"
    },
    {
     "data": {
      "image/png": "[encoded data removed]",
      "text/plain": [
       "<Figure size 630x280 with 1 Axes>"
      ]
     },
     "metadata": {
      "needs_background": "light"
     },
     "output_type": "display_data"
    }
   ],
   "source": [
    "fig, ax = plt.subplots(dpi=70, figsize=(9, 4))\n",
    "\n",
    "sns.countplot(data=dados, x= dados[\"TP_SEXO\"],\n",
    "             palette=\"RdBu\", ax=ax)\n",
    "\n",
    "for c in ax.containers:\n",
    "    for v in c:\n",
    "        bar_height = v.get_height()\n",
    "        x_value = v.get_x()\n",
    "        text = \"{:.1%}\".format(bar_height/len(dados))\n",
    "        ax.annotate(xy=(x_value, bar_height), text=text)\n",
    "ax.set_ylabel(\"Quantidade de participantes em milhões\")\n",
    "ax.set_xlabel(\"Sexo\")"
   ]
  },
  {
   "cell_type": "code",
   "execution_count": 33,
   "id": "btkwCAAx8NXa",
   "metadata": {
    "colab": {
     "base_uri": "https://localhost:8080/",
     "height": 642
    },
    "executionInfo": {
     "elapsed": 1369,
     "status": "ok",
     "timestamp": 1659587780060,
     "user": {
      "displayName": "Gabriel Akira",
      "userId": "13059527523178606217"
     },
     "user_tz": 180
    },
    "id": "btkwCAAx8NXa",
    "outputId": "dfc6276b-3124-45d2-af9d-bf1a6c48cbcc"
   },
   "outputs": [
    {
     "ename": "KeyError",
     "evalue": "'TP_IDADE'",
     "output_type": "error",
     "traceback": [
      "\u001b[1;31m---------------------------------------------------------------------------\u001b[0m",
      "\u001b[1;31mKeyError\u001b[0m                                  Traceback (most recent call last)",
      "File \u001b[1;32mc:\\Users\\gabri\\AppData\\Local\\Programs\\Python\\Python310\\lib\\site-packages\\pandas\\core\\indexes\\base.py:3621\u001b[0m, in \u001b[0;36mIndex.get_loc\u001b[1;34m(self, key, method, tolerance)\u001b[0m\n\u001b[0;32m   3620\u001b[0m \u001b[39mtry\u001b[39;00m:\n\u001b[1;32m-> 3621\u001b[0m     \u001b[39mreturn\u001b[39;00m \u001b[39mself\u001b[39;49m\u001b[39m.\u001b[39;49m_engine\u001b[39m.\u001b[39;49mget_loc(casted_key)\n\u001b[0;32m   3622\u001b[0m \u001b[39mexcept\u001b[39;00m \u001b[39mKeyError\u001b[39;00m \u001b[39mas\u001b[39;00m err:\n",
      "File \u001b[1;32mc:\\Users\\gabri\\AppData\\Local\\Programs\\Python\\Python310\\lib\\site-packages\\pandas\\_libs\\index.pyx:136\u001b[0m, in \u001b[0;36mpandas._libs.index.IndexEngine.get_loc\u001b[1;34m()\u001b[0m\n",
      "File \u001b[1;32mc:\\Users\\gabri\\AppData\\Local\\Programs\\Python\\Python310\\lib\\site-packages\\pandas\\_libs\\index.pyx:163\u001b[0m, in \u001b[0;36mpandas._libs.index.IndexEngine.get_loc\u001b[1;34m()\u001b[0m\n",
      "File \u001b[1;32mpandas\\_libs\\hashtable_class_helper.pxi:5198\u001b[0m, in \u001b[0;36mpandas._libs.hashtable.PyObjectHashTable.get_item\u001b[1;34m()\u001b[0m\n",
      "File \u001b[1;32mpandas\\_libs\\hashtable_class_helper.pxi:5206\u001b[0m, in \u001b[0;36mpandas._libs.hashtable.PyObjectHashTable.get_item\u001b[1;34m()\u001b[0m\n",
      "\u001b[1;31mKeyError\u001b[0m: 'TP_IDADE'",
      "\nThe above exception was the direct cause of the following exception:\n",
      "\u001b[1;31mKeyError\u001b[0m                                  Traceback (most recent call last)",
      "\u001b[1;32mc:\\Users\\gabri\\OneDrive\\Área de Trabalho\\Data Science\\Enem\\Enem.ipynb Célula: 19\u001b[0m in \u001b[0;36m<cell line: 2>\u001b[1;34m()\u001b[0m\n\u001b[0;32m      <a href='vscode-notebook-cell:/c%3A/Users/gabri/OneDrive/%C3%81rea%20de%20Trabalho/Data%20Science/Enem/Enem.ipynb#X22sZmlsZQ%3D%3D?line=0'>1</a>\u001b[0m sns\u001b[39m.\u001b[39mset_theme(style\u001b[39m=\u001b[39m\u001b[39m\"\u001b[39m\u001b[39mwhite\u001b[39m\u001b[39m\"\u001b[39m, context\u001b[39m=\u001b[39m\u001b[39m\"\u001b[39m\u001b[39mtalk\u001b[39m\u001b[39m\"\u001b[39m)\n\u001b[1;32m----> <a href='vscode-notebook-cell:/c%3A/Users/gabri/OneDrive/%C3%81rea%20de%20Trabalho/Data%20Science/Enem/Enem.ipynb#X22sZmlsZQ%3D%3D?line=1'>2</a>\u001b[0m sns\u001b[39m.\u001b[39mhistplot(data\u001b[39m=\u001b[39mdados, x \u001b[39m=\u001b[39m dados[\u001b[39m\"\u001b[39;49m\u001b[39mTP_IDADE\u001b[39;49m\u001b[39m\"\u001b[39;49m],\n\u001b[0;32m      <a href='vscode-notebook-cell:/c%3A/Users/gabri/OneDrive/%C3%81rea%20de%20Trabalho/Data%20Science/Enem/Enem.ipynb#X22sZmlsZQ%3D%3D?line=2'>3</a>\u001b[0m     pallete \u001b[39m=\u001b[39m \u001b[39m\"\u001b[39m\u001b[39mvlag\u001b[39m\u001b[39m\"\u001b[39m)\n\u001b[0;32m      <a href='vscode-notebook-cell:/c%3A/Users/gabri/OneDrive/%C3%81rea%20de%20Trabalho/Data%20Science/Enem/Enem.ipynb#X22sZmlsZQ%3D%3D?line=3'>4</a>\u001b[0m \u001b[39mfor\u001b[39;00m c \u001b[39min\u001b[39;00m ax\u001b[39m.\u001b[39mcontainers:\n\u001b[0;32m      <a href='vscode-notebook-cell:/c%3A/Users/gabri/OneDrive/%C3%81rea%20de%20Trabalho/Data%20Science/Enem/Enem.ipynb#X22sZmlsZQ%3D%3D?line=4'>5</a>\u001b[0m     \u001b[39mfor\u001b[39;00m v \u001b[39min\u001b[39;00m c:\n",
      "File \u001b[1;32mc:\\Users\\gabri\\AppData\\Local\\Programs\\Python\\Python310\\lib\\site-packages\\pandas\\core\\frame.py:3505\u001b[0m, in \u001b[0;36mDataFrame.__getitem__\u001b[1;34m(self, key)\u001b[0m\n\u001b[0;32m   3503\u001b[0m \u001b[39mif\u001b[39;00m \u001b[39mself\u001b[39m\u001b[39m.\u001b[39mcolumns\u001b[39m.\u001b[39mnlevels \u001b[39m>\u001b[39m \u001b[39m1\u001b[39m:\n\u001b[0;32m   3504\u001b[0m     \u001b[39mreturn\u001b[39;00m \u001b[39mself\u001b[39m\u001b[39m.\u001b[39m_getitem_multilevel(key)\n\u001b[1;32m-> 3505\u001b[0m indexer \u001b[39m=\u001b[39m \u001b[39mself\u001b[39;49m\u001b[39m.\u001b[39;49mcolumns\u001b[39m.\u001b[39;49mget_loc(key)\n\u001b[0;32m   3506\u001b[0m \u001b[39mif\u001b[39;00m is_integer(indexer):\n\u001b[0;32m   3507\u001b[0m     indexer \u001b[39m=\u001b[39m [indexer]\n",
      "File \u001b[1;32mc:\\Users\\gabri\\AppData\\Local\\Programs\\Python\\Python310\\lib\\site-packages\\pandas\\core\\indexes\\base.py:3623\u001b[0m, in \u001b[0;36mIndex.get_loc\u001b[1;34m(self, key, method, tolerance)\u001b[0m\n\u001b[0;32m   3621\u001b[0m     \u001b[39mreturn\u001b[39;00m \u001b[39mself\u001b[39m\u001b[39m.\u001b[39m_engine\u001b[39m.\u001b[39mget_loc(casted_key)\n\u001b[0;32m   3622\u001b[0m \u001b[39mexcept\u001b[39;00m \u001b[39mKeyError\u001b[39;00m \u001b[39mas\u001b[39;00m err:\n\u001b[1;32m-> 3623\u001b[0m     \u001b[39mraise\u001b[39;00m \u001b[39mKeyError\u001b[39;00m(key) \u001b[39mfrom\u001b[39;00m \u001b[39merr\u001b[39;00m\n\u001b[0;32m   3624\u001b[0m \u001b[39mexcept\u001b[39;00m \u001b[39mTypeError\u001b[39;00m:\n\u001b[0;32m   3625\u001b[0m     \u001b[39m# If we have a listlike key, _check_indexing_error will raise\u001b[39;00m\n\u001b[0;32m   3626\u001b[0m     \u001b[39m#  InvalidIndexError. Otherwise we fall through and re-raise\u001b[39;00m\n\u001b[0;32m   3627\u001b[0m     \u001b[39m#  the TypeError.\u001b[39;00m\n\u001b[0;32m   3628\u001b[0m     \u001b[39mself\u001b[39m\u001b[39m.\u001b[39m_check_indexing_error(key)\n",
      "\u001b[1;31mKeyError\u001b[0m: 'TP_IDADE'"
     ]
    }
   ],
   "source": [
    "plt.figure(figsize = (17,5))\n",
    "\n",
    "nota_Ch = dados[\"NU_NOTA_CH\"]\n",
    "nota_Cn = dados[\"NU_NOTA_CN\"]\n",
    "nota_Lc = dados[\"NU_NOTA_LC\"]\n",
    "nota_Mt = dados[\"NU_NOTA_MT\"]\n",
    "renda = dados[\"Q006\"]\n",
    "\n",
    "plt.scatter()"
   ]
  },
  {
   "cell_type": "code",
   "execution_count": 23,
   "id": "b4f855bc",
   "metadata": {},
   "outputs": [
    {
     "data": {
      "text/plain": [
       "Text(0.5, 0, 'Etnia')"
      ]
     },
     "execution_count": 23,
     "metadata": {},
     "output_type": "execute_result"
    },
    {
     "data": {
      "image/png": "[encoded data removed]",
      "text/plain": [
       "<Figure size 720x576 with 1 Axes>"
      ]
     },
     "metadata": {
      "needs_background": "light"
     },
     "output_type": "display_data"
    }
   ],
   "source": [
    "plt.rcParams['figure.figsize'] = (10, 8)\n",
    "sns.barplot(data=dados,\n",
    "            x = dados['TP_COR_RACA'].map({0:'Não declarado',1:'Branca',2:'Preta',3:'Parda',4:'Amarela',5:'Indígena'}), y = dados['nota_Media']);\n",
    "plt.ylabel('Nota Média', fontsize=20)\n",
    "plt.xlabel('Etnia', fontsize=16)"
   ]
  },
  {
   "cell_type": "code",
   "execution_count": 39,
   "id": "5a448b58",
   "metadata": {
    "scrolled": false
   },
   "outputs": [
    {
     "data": {
      "text/plain": [
       "Text(0.5, 0, 'Modalidade')"
      ]
     },
     "execution_count": 39,
     "metadata": {},
     "output_type": "execute_result"
    },
    {
     "data": {
      "image/png": "[encoded data removed]",
      "text/plain": [
       "<Figure size 432x288 with 1 Axes>"
      ]
     },
     "metadata": {
      "needs_background": "light"
     },
     "output_type": "display_data"
    }
   ],
   "source": [
    "sns.barplot(data=dados, x = dados['TP_ESCOLA'].map({1:'Não respondeu',2:'Pública',3:'Particular'}), y = dados['nota_Media'])\n",
    "plt.ylabel('Nota Média', fontsize=16)\n",
    "plt.xlabel('Modalidade', fontsize=16)"
   ]
  },
  {
   "cell_type": "markdown",
   "id": "d39d5382",
   "metadata": {},
   "source": [
    "### Fazer só com as colunas numéricas"
   ]
  },
  {
   "cell_type": "code",
   "execution_count": 65,
   "id": "A-U_7qd97Jv7",
   "metadata": {
    "colab": {
     "base_uri": "https://localhost:8080/",
     "height": 829
    },
    "executionInfo": {
     "elapsed": 396030,
     "status": "ok",
     "timestamp": 1659587266556,
     "user": {
      "displayName": "Gabriel Akira",
      "userId": "13059527523178606217"
     },
     "user_tz": 180
    },
    "id": "A-U_7qd97Jv7",
    "outputId": "33aeee36-fe54-4a7f-95ca-d0b4eba86c2e"
   },
   "outputs": [],
   "source": [
    "### Fazer isso só com as colunas numéricas\n",
    "#sns.pairplot(dados.iloc[:, :10])"
   ]
  },
  {
   "cell_type": "code",
   "execution_count": 63,
   "id": "akp2B6lxLFsO",
   "metadata": {
    "id": "akp2B6lxLFsO"
   },
   "outputs": [],
   "source": [
    "#plt.figure(figsize=(50, 50))\n",
    "#sns.heatmap(dados.corr(''), annot=True, fmt='.0%')\n",
    "#IN_SEM_RECURSO"
   ]
  },
  {
   "cell_type": "code",
   "execution_count": 66,
   "id": "o8Hlkyas83cN",
   "metadata": {
    "id": "o8Hlkyas83cN"
   },
   "outputs": [],
   "source": [
    "#plt.figure(figsize=(50, 50))\n",
    "#sns.heatmap(dados.corr(), annot=True, fmt='.0%')"
   ]
  },
  {
   "cell_type": "code",
   "execution_count": null,
   "id": "MiEeaYzw_F6c",
   "metadata": {
    "id": "MiEeaYzw_F6c"
   },
   "outputs": [],
   "source": [
    "\"\"\"\n",
    "Como treinar qualquer modelo:\n",
    "\n",
    "Iniciante:\n",
    "* Train test split (se ja nao foi separado, nesse caso nao precisa)\n",
    "* Treino com o dataset de treino\n",
    "* Gera as predições com conjunto de teste (x)\n",
    "* Calcula erros: RMSE, MAE, R2, etc.\n",
    "* Compara os resultados, testa usar menos ou mais variáveis, etc.\n",
    "* Começa so com as numéricas\n",
    "\n",
    "Intermediário:\n",
    "* Train test split (se ja nao foi separado, nesse caso nao precisa)\n",
    "* Validação cruzada com k fold\n",
    "* Gera as predições com o conjunto de teste (x)\n",
    "* Calcula erros: RMSE, MAE, R2, etc.\n",
    "* Compara os resultados de validação e treino\n",
    "\n",
    "\n",
    "Repete o passo para varios modelos. Recomendado: LinearRegession para começar, LinearRegression com algumas variáveis criadas multiplicando, tirando raiz quadrada, polinômio, etc. de variáveis que existe (vc escolhe a função vendo qual tem a maior correlação com o y)\n",
    "Depois se quiser pode usar Ridge, Lasso, ElasticNet, SVR, e fazer tuning de parâmetros \n",
    "\n",
    "Faz um passo para cada nota do enem\n",
    "\"\"\""
   ]
  },
  {
   "cell_type": "markdown",
   "id": "o3D46pHu2SH0",
   "metadata": {
    "id": "o3D46pHu2SH0"
   },
   "source": [
    "## Análise Exploratória de Dados"
   ]
  },
  {
   "cell_type": "code",
   "execution_count": null,
   "id": "Kdj93YKv245g",
   "metadata": {
    "id": "Kdj93YKv245g"
   },
   "outputs": [],
   "source": [
    "?pd.DataFrame.describe"
   ]
  },
  {
   "cell_type": "code",
   "execution_count": null,
   "id": "MipvgfRk28BE",
   "metadata": {
    "id": "MipvgfRk28BE"
   },
   "outputs": [],
   "source": [
    "?pd.DataFrame.info"
   ]
  },
  {
   "cell_type": "code",
   "execution_count": null,
   "id": "feb4ee86",
   "metadata": {
    "id": "feb4ee86"
   },
   "outputs": [],
   "source": [
    "?sns.pairplot"
   ]
  },
  {
   "cell_type": "code",
   "execution_count": null,
   "id": "zY510pvj2HYO",
   "metadata": {
    "id": "zY510pvj2HYO"
   },
   "outputs": [],
   "source": [
    "?sns.heatmap\n",
    "?pd.DataFrame.corr"
   ]
  },
  {
   "cell_type": "markdown",
   "id": "Jj60brGB2X_h",
   "metadata": {
    "id": "Jj60brGB2X_h"
   },
   "source": [
    "## Treino de modelo"
   ]
  },
  {
   "cell_type": "markdown",
   "id": "-ObwhOGT2Z6b",
   "metadata": {
    "id": "-ObwhOGT2Z6b"
   },
   "source": [
    "### Regressão Linear"
   ]
  },
  {
   "cell_type": "code",
   "execution_count": null,
   "id": "c5645rTn2uZz",
   "metadata": {
    "id": "c5645rTn2uZz"
   },
   "outputs": [],
   "source": [
    "# TODO: Testar várias combinações de variáveis e potências, multiplicações, etc."
   ]
  },
  {
   "cell_type": "code",
   "execution_count": null,
   "id": "7Im4K47L2Pkk",
   "metadata": {
    "id": "7Im4K47L2Pkk"
   },
   "outputs": [],
   "source": [
    "?LinearRegression"
   ]
  },
  {
   "cell_type": "code",
   "execution_count": null,
   "id": "3inevq4I21C5",
   "metadata": {
    "id": "3inevq4I21C5"
   },
   "outputs": [],
   "source": [
    "# TODO: Testar normalizar e usar Ridge e Lasso"
   ]
  },
  {
   "cell_type": "code",
   "execution_count": null,
   "id": "QitwwpKvJtM_",
   "metadata": {
    "id": "QitwwpKvJtM_"
   },
   "outputs": [],
   "source": [
    "A = train[train.columns[train.columns.str.startswith('IN_SALA_ESPECIAL')]]"
   ]
  },
  {
   "cell_type": "code",
   "execution_count": null,
   "id": "xSHF0z80K2IX",
   "metadata": {
    "id": "xSHF0z80K2IX"
   },
   "outputs": [],
   "source": [
    "print(A)"
   ]
  },
  {
   "cell_type": "code",
   "execution_count": null,
   "id": "YhGmjIbTK78W",
   "metadata": {
    "id": "YhGmjIbTK78W"
   },
   "outputs": [],
   "source": [
    "b = 0\n",
    "for i in train.columns:\n",
    "  if i.isdecimal():\n",
    "    b = i"
   ]
  },
  {
   "cell_type": "code",
   "execution_count": null,
   "id": "JQT2f4yvvdQk",
   "metadata": {
    "id": "JQT2f4yvvdQk"
   },
   "outputs": [],
   "source": [
    "print(i)"
   ]
  }
 ],
 "metadata": {
  "colab": {
   "collapsed_sections": [],
   "name": "Untitled.ipynb",
   "provenance": []
  },
  "interpreter": {
   "hash": "b1be5a1e9e85905d3e4e97ef1b769f5caa870a8a58c9f9e0ae488b6f0a0e1baf"
  },
  "kernelspec": {
   "display_name": "Python 3 (ipykernel)",
   "language": "python",
   "name": "python3"
  },
  "language_info": {
   "codemirror_mode": {
    "name": "ipython",
    "version": 3
   },
   "file_extension": ".py",
   "mimetype": "text/x-python",
   "name": "python",
   "nbconvert_exporter": "python",
   "pygments_lexer": "ipython3",
   "version": "3.10.4"
  }
 },
 "nbformat": 4,
 "nbformat_minor": 5
}
